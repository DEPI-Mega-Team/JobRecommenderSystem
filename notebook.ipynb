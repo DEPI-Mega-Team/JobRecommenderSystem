{
 "cells": [
  {
   "cell_type": "code",
   "execution_count": 1,
   "metadata": {
    "_cell_guid": "b1076dfc-b9ad-4769-8c92-a6c4dae69d19",
    "_uuid": "8f2839f25d086af736a60e9eeb907d3b93b6e0e5",
    "execution": {
     "iopub.execute_input": "2025-03-07T07:02:54.351259Z",
     "iopub.status.busy": "2025-03-07T07:02:54.350887Z",
     "iopub.status.idle": "2025-03-07T07:02:54.686372Z",
     "shell.execute_reply": "2025-03-07T07:02:54.685498Z",
     "shell.execute_reply.started": "2025-03-07T07:02:54.351229Z"
    },
    "trusted": true
   },
   "outputs": [],
   "source": [
    "import pandas as pd\n",
    "import numpy as np\n",
    "import pickle"
   ]
  },
  {
   "cell_type": "markdown",
   "metadata": {},
   "source": [
    "# Data Exploration"
   ]
  },
  {
   "cell_type": "code",
   "execution_count": 2,
   "metadata": {
    "execution": {
     "iopub.execute_input": "2025-03-07T07:02:54.910966Z",
     "iopub.status.busy": "2025-03-07T07:02:54.910548Z",
     "iopub.status.idle": "2025-03-07T07:03:07.288316Z",
     "shell.execute_reply": "2025-03-07T07:03:07.287232Z",
     "shell.execute_reply.started": "2025-03-07T07:02:54.910941Z"
    },
    "trusted": true
   },
   "outputs": [
    {
     "name": "stderr",
     "output_type": "stream",
     "text": [
      "/usr/local/lib/python3.10/dist-packages/pandas/io/formats/format.py:1458: RuntimeWarning: invalid value encountered in greater\n",
      "  has_large_values = (abs_vals > 1e6).any()\n",
      "/usr/local/lib/python3.10/dist-packages/pandas/io/formats/format.py:1459: RuntimeWarning: invalid value encountered in less\n",
      "  has_small_values = ((abs_vals < 10 ** (-self.digits)) & (abs_vals > 0)).any()\n",
      "/usr/local/lib/python3.10/dist-packages/pandas/io/formats/format.py:1459: RuntimeWarning: invalid value encountered in greater\n",
      "  has_small_values = ((abs_vals < 10 ** (-self.digits)) & (abs_vals > 0)).any()\n",
      "/usr/local/lib/python3.10/dist-packages/pandas/io/formats/format.py:1458: RuntimeWarning: invalid value encountered in greater\n",
      "  has_large_values = (abs_vals > 1e6).any()\n",
      "/usr/local/lib/python3.10/dist-packages/pandas/io/formats/format.py:1459: RuntimeWarning: invalid value encountered in less\n",
      "  has_small_values = ((abs_vals < 10 ** (-self.digits)) & (abs_vals > 0)).any()\n",
      "/usr/local/lib/python3.10/dist-packages/pandas/io/formats/format.py:1459: RuntimeWarning: invalid value encountered in greater\n",
      "  has_small_values = ((abs_vals < 10 ** (-self.digits)) & (abs_vals > 0)).any()\n"
     ]
    },
    {
     "data": {
      "text/html": [
       "<div>\n",
       "<style scoped>\n",
       "    .dataframe tbody tr th:only-of-type {\n",
       "        vertical-align: middle;\n",
       "    }\n",
       "\n",
       "    .dataframe tbody tr th {\n",
       "        vertical-align: top;\n",
       "    }\n",
       "\n",
       "    .dataframe thead th {\n",
       "        text-align: right;\n",
       "    }\n",
       "</style>\n",
       "<table border=\"1\" class=\"dataframe\">\n",
       "  <thead>\n",
       "    <tr style=\"text-align: right;\">\n",
       "      <th></th>\n",
       "      <th>job_id</th>\n",
       "      <th>company_name</th>\n",
       "      <th>title</th>\n",
       "      <th>description</th>\n",
       "      <th>max_salary</th>\n",
       "      <th>pay_period</th>\n",
       "      <th>location</th>\n",
       "      <th>company_id</th>\n",
       "      <th>views</th>\n",
       "      <th>med_salary</th>\n",
       "      <th>...</th>\n",
       "      <th>skills_desc</th>\n",
       "      <th>listed_time</th>\n",
       "      <th>posting_domain</th>\n",
       "      <th>sponsored</th>\n",
       "      <th>work_type</th>\n",
       "      <th>currency</th>\n",
       "      <th>compensation_type</th>\n",
       "      <th>normalized_salary</th>\n",
       "      <th>zip_code</th>\n",
       "      <th>fips</th>\n",
       "    </tr>\n",
       "  </thead>\n",
       "  <tbody>\n",
       "    <tr>\n",
       "      <th>43350</th>\n",
       "      <td>3900075341</td>\n",
       "      <td>JTC Group</td>\n",
       "      <td>Associate Director - Fund Services</td>\n",
       "      <td>EMPLOYMENT TYPE:  At Will\\n\\n DEPARTMENT:  Fun...</td>\n",
       "      <td>NaN</td>\n",
       "      <td>NaN</td>\n",
       "      <td>Missouri, United States</td>\n",
       "      <td>1025207.0</td>\n",
       "      <td>4.0</td>\n",
       "      <td>NaN</td>\n",
       "      <td>...</td>\n",
       "      <td>NaN</td>\n",
       "      <td>1.713210e+12</td>\n",
       "      <td>jtcgroup.csod.com</td>\n",
       "      <td>0</td>\n",
       "      <td>FULL_TIME</td>\n",
       "      <td>NaN</td>\n",
       "      <td>NaN</td>\n",
       "      <td>NaN</td>\n",
       "      <td>NaN</td>\n",
       "      <td>NaN</td>\n",
       "    </tr>\n",
       "    <tr>\n",
       "      <th>122167</th>\n",
       "      <td>3906252226</td>\n",
       "      <td>PLS Financial Services, Inc.</td>\n",
       "      <td>Customer Service Representative- Bilingual Spa...</td>\n",
       "      <td>Overview\\n\\n PLS ® : People. Location. Service...</td>\n",
       "      <td>NaN</td>\n",
       "      <td>NaN</td>\n",
       "      <td>Fort Worth, TX</td>\n",
       "      <td>23929.0</td>\n",
       "      <td>2.0</td>\n",
       "      <td>NaN</td>\n",
       "      <td>...</td>\n",
       "      <td>NaN</td>\n",
       "      <td>1.713566e+12</td>\n",
       "      <td>careers-pls.icims.com</td>\n",
       "      <td>0</td>\n",
       "      <td>FULL_TIME</td>\n",
       "      <td>NaN</td>\n",
       "      <td>NaN</td>\n",
       "      <td>NaN</td>\n",
       "      <td>76102.0</td>\n",
       "      <td>48439.0</td>\n",
       "    </tr>\n",
       "    <tr>\n",
       "      <th>51208</th>\n",
       "      <td>3901379605</td>\n",
       "      <td>Long Finch Technologies LLC</td>\n",
       "      <td>SAP ABAP Developer</td>\n",
       "      <td>Role: SAP ABAP Developer on Hana\\n• Hands on S...</td>\n",
       "      <td>NaN</td>\n",
       "      <td>NaN</td>\n",
       "      <td>Plano, TX</td>\n",
       "      <td>11187415.0</td>\n",
       "      <td>7.0</td>\n",
       "      <td>NaN</td>\n",
       "      <td>...</td>\n",
       "      <td>NaN</td>\n",
       "      <td>1.713460e+12</td>\n",
       "      <td>NaN</td>\n",
       "      <td>0</td>\n",
       "      <td>FULL_TIME</td>\n",
       "      <td>NaN</td>\n",
       "      <td>NaN</td>\n",
       "      <td>NaN</td>\n",
       "      <td>75023.0</td>\n",
       "      <td>48085.0</td>\n",
       "    </tr>\n",
       "    <tr>\n",
       "      <th>24806</th>\n",
       "      <td>3891063748</td>\n",
       "      <td>Photon</td>\n",
       "      <td>BA - SME investment</td>\n",
       "      <td>Client: PhotonPosition: BA - Alternative Inves...</td>\n",
       "      <td>NaN</td>\n",
       "      <td>NaN</td>\n",
       "      <td>Dallas, TX</td>\n",
       "      <td>165464.0</td>\n",
       "      <td>3.0</td>\n",
       "      <td>NaN</td>\n",
       "      <td>...</td>\n",
       "      <td>NaN</td>\n",
       "      <td>1.712860e+12</td>\n",
       "      <td>NaN</td>\n",
       "      <td>0</td>\n",
       "      <td>FULL_TIME</td>\n",
       "      <td>NaN</td>\n",
       "      <td>NaN</td>\n",
       "      <td>NaN</td>\n",
       "      <td>75201.0</td>\n",
       "      <td>48113.0</td>\n",
       "    </tr>\n",
       "  </tbody>\n",
       "</table>\n",
       "<p>4 rows × 31 columns</p>\n",
       "</div>"
      ],
      "text/plain": [
       "            job_id                  company_name  \\\n",
       "43350   3900075341                     JTC Group   \n",
       "122167  3906252226  PLS Financial Services, Inc.   \n",
       "51208   3901379605   Long Finch Technologies LLC   \n",
       "24806   3891063748                        Photon   \n",
       "\n",
       "                                                    title  \\\n",
       "43350                  Associate Director - Fund Services   \n",
       "122167  Customer Service Representative- Bilingual Spa...   \n",
       "51208                                  SAP ABAP Developer   \n",
       "24806                                 BA - SME investment   \n",
       "\n",
       "                                              description  max_salary  \\\n",
       "43350   EMPLOYMENT TYPE:  At Will\\n\\n DEPARTMENT:  Fun...         NaN   \n",
       "122167  Overview\\n\\n PLS ® : People. Location. Service...         NaN   \n",
       "51208   Role: SAP ABAP Developer on Hana\\n• Hands on S...         NaN   \n",
       "24806   Client: PhotonPosition: BA - Alternative Inves...         NaN   \n",
       "\n",
       "       pay_period                 location  company_id  views  med_salary  \\\n",
       "43350         NaN  Missouri, United States   1025207.0    4.0         NaN   \n",
       "122167        NaN           Fort Worth, TX     23929.0    2.0         NaN   \n",
       "51208         NaN                Plano, TX  11187415.0    7.0         NaN   \n",
       "24806         NaN               Dallas, TX    165464.0    3.0         NaN   \n",
       "\n",
       "        ...  skills_desc   listed_time         posting_domain  sponsored  \\\n",
       "43350   ...          NaN  1.713210e+12      jtcgroup.csod.com          0   \n",
       "122167  ...          NaN  1.713566e+12  careers-pls.icims.com          0   \n",
       "51208   ...          NaN  1.713460e+12                    NaN          0   \n",
       "24806   ...          NaN  1.712860e+12                    NaN          0   \n",
       "\n",
       "        work_type currency compensation_type normalized_salary  zip_code  \\\n",
       "43350   FULL_TIME      NaN               NaN               NaN       NaN   \n",
       "122167  FULL_TIME      NaN               NaN               NaN   76102.0   \n",
       "51208   FULL_TIME      NaN               NaN               NaN   75023.0   \n",
       "24806   FULL_TIME      NaN               NaN               NaN   75201.0   \n",
       "\n",
       "           fips  \n",
       "43350       NaN  \n",
       "122167  48439.0  \n",
       "51208   48085.0  \n",
       "24806   48113.0  \n",
       "\n",
       "[4 rows x 31 columns]"
      ]
     },
     "execution_count": 2,
     "metadata": {},
     "output_type": "execute_result"
    }
   ],
   "source": [
    "postings = pd.read_csv('/kaggle/input/linkedin-job-postings/postings.csv')\n",
    "postings.sample(4)"
   ]
  },
  {
   "cell_type": "code",
   "execution_count": 3,
   "metadata": {
    "execution": {
     "iopub.execute_input": "2025-03-07T07:03:07.289697Z",
     "iopub.status.busy": "2025-03-07T07:03:07.289394Z",
     "iopub.status.idle": "2025-03-07T07:03:07.406410Z",
     "shell.execute_reply": "2025-03-07T07:03:07.405518Z",
     "shell.execute_reply.started": "2025-03-07T07:03:07.289665Z"
    },
    "trusted": true
   },
   "outputs": [
    {
     "name": "stdout",
     "output_type": "stream",
     "text": [
      "<class 'pandas.core.frame.DataFrame'>\n",
      "RangeIndex: 123849 entries, 0 to 123848\n",
      "Data columns (total 31 columns):\n",
      " #   Column                      Non-Null Count   Dtype  \n",
      "---  ------                      --------------   -----  \n",
      " 0   job_id                      123849 non-null  int64  \n",
      " 1   company_name                122130 non-null  object \n",
      " 2   title                       123849 non-null  object \n",
      " 3   description                 123842 non-null  object \n",
      " 4   max_salary                  29793 non-null   float64\n",
      " 5   pay_period                  36073 non-null   object \n",
      " 6   location                    123849 non-null  object \n",
      " 7   company_id                  122132 non-null  float64\n",
      " 8   views                       122160 non-null  float64\n",
      " 9   med_salary                  6280 non-null    float64\n",
      " 10  min_salary                  29793 non-null   float64\n",
      " 11  formatted_work_type         123849 non-null  object \n",
      " 12  applies                     23320 non-null   float64\n",
      " 13  original_listed_time        123849 non-null  float64\n",
      " 14  remote_allowed              15246 non-null   float64\n",
      " 15  job_posting_url             123849 non-null  object \n",
      " 16  application_url             87184 non-null   object \n",
      " 17  application_type            123849 non-null  object \n",
      " 18  expiry                      123849 non-null  float64\n",
      " 19  closed_time                 1073 non-null    float64\n",
      " 20  formatted_experience_level  94440 non-null   object \n",
      " 21  skills_desc                 2439 non-null    object \n",
      " 22  listed_time                 123849 non-null  float64\n",
      " 23  posting_domain              83881 non-null   object \n",
      " 24  sponsored                   123849 non-null  int64  \n",
      " 25  work_type                   123849 non-null  object \n",
      " 26  currency                    36073 non-null   object \n",
      " 27  compensation_type           36073 non-null   object \n",
      " 28  normalized_salary           36073 non-null   float64\n",
      " 29  zip_code                    102977 non-null  float64\n",
      " 30  fips                        96434 non-null   float64\n",
      "dtypes: float64(14), int64(2), object(15)\n",
      "memory usage: 29.3+ MB\n"
     ]
    }
   ],
   "source": [
    "postings.info()"
   ]
  },
  {
   "cell_type": "code",
   "execution_count": 4,
   "metadata": {
    "execution": {
     "iopub.execute_input": "2025-03-07T07:03:07.408109Z",
     "iopub.status.busy": "2025-03-07T07:03:07.407875Z",
     "iopub.status.idle": "2025-03-07T07:03:07.432374Z",
     "shell.execute_reply": "2025-03-07T07:03:07.431732Z",
     "shell.execute_reply.started": "2025-03-07T07:03:07.408089Z"
    },
    "trusted": true
   },
   "outputs": [
    {
     "name": "stdout",
     "output_type": "stream",
     "text": [
      "Application Types : ['ComplexOnsiteApply', 'SimpleOnsiteApply', 'OffsiteApply', 'UnknownApply']\n",
      "Currencies : ['USD', nan, 'CAD', 'BBD', 'EUR', 'AUD', 'GBP']\n",
      "Work Types : ['FULL_TIME', 'INTERNSHIP', 'CONTRACT', 'PART_TIME', 'TEMPORARY', 'VOLUNTEER', 'OTHER']\n",
      "Compensation Types : ['BASE_SALARY', nan]\n"
     ]
    }
   ],
   "source": [
    "col_dict = {\n",
    "    \"Application Types\" : 'application_type',\n",
    "    \"Currencies\" : 'currency',\n",
    "    \"Work Types\": 'work_type',\n",
    "    'Compensation Types' : 'compensation_type'\n",
    "            }\n",
    "\n",
    "for text, col in col_dict.items():\n",
    "    print(text, ':', list(postings[col].unique()))\n"
   ]
  },
  {
   "cell_type": "code",
   "execution_count": 5,
   "metadata": {
    "execution": {
     "iopub.execute_input": "2025-03-07T07:03:07.433547Z",
     "iopub.status.busy": "2025-03-07T07:03:07.433287Z",
     "iopub.status.idle": "2025-03-07T07:03:07.547874Z",
     "shell.execute_reply": "2025-03-07T07:03:07.546810Z",
     "shell.execute_reply.started": "2025-03-07T07:03:07.433527Z"
    },
    "trusted": true
   },
   "outputs": [
    {
     "data": {
      "text/html": [
       "<div>\n",
       "<style scoped>\n",
       "    .dataframe tbody tr th:only-of-type {\n",
       "        vertical-align: middle;\n",
       "    }\n",
       "\n",
       "    .dataframe tbody tr th {\n",
       "        vertical-align: top;\n",
       "    }\n",
       "\n",
       "    .dataframe thead th {\n",
       "        text-align: right;\n",
       "    }\n",
       "</style>\n",
       "<table border=\"1\" class=\"dataframe\">\n",
       "  <thead>\n",
       "    <tr style=\"text-align: right;\">\n",
       "      <th></th>\n",
       "      <th>job_id</th>\n",
       "      <th>max_salary</th>\n",
       "      <th>company_id</th>\n",
       "      <th>views</th>\n",
       "      <th>med_salary</th>\n",
       "      <th>min_salary</th>\n",
       "      <th>applies</th>\n",
       "      <th>original_listed_time</th>\n",
       "      <th>remote_allowed</th>\n",
       "      <th>expiry</th>\n",
       "      <th>closed_time</th>\n",
       "      <th>listed_time</th>\n",
       "      <th>sponsored</th>\n",
       "      <th>normalized_salary</th>\n",
       "      <th>zip_code</th>\n",
       "      <th>fips</th>\n",
       "    </tr>\n",
       "  </thead>\n",
       "  <tbody>\n",
       "    <tr>\n",
       "      <th>count</th>\n",
       "      <td>1.238490e+05</td>\n",
       "      <td>2.979300e+04</td>\n",
       "      <td>1.221320e+05</td>\n",
       "      <td>122160.000000</td>\n",
       "      <td>6280.000000</td>\n",
       "      <td>2.979300e+04</td>\n",
       "      <td>23320.000000</td>\n",
       "      <td>1.238490e+05</td>\n",
       "      <td>15246.0</td>\n",
       "      <td>1.238490e+05</td>\n",
       "      <td>1.073000e+03</td>\n",
       "      <td>1.238490e+05</td>\n",
       "      <td>123849.0</td>\n",
       "      <td>3.607300e+04</td>\n",
       "      <td>102977.000000</td>\n",
       "      <td>96434.000000</td>\n",
       "    </tr>\n",
       "    <tr>\n",
       "      <th>mean</th>\n",
       "      <td>3.896402e+09</td>\n",
       "      <td>9.193942e+04</td>\n",
       "      <td>1.220401e+07</td>\n",
       "      <td>14.618247</td>\n",
       "      <td>22015.619876</td>\n",
       "      <td>6.491085e+04</td>\n",
       "      <td>10.591981</td>\n",
       "      <td>1.713152e+12</td>\n",
       "      <td>1.0</td>\n",
       "      <td>1.716213e+12</td>\n",
       "      <td>1.712928e+12</td>\n",
       "      <td>1.713204e+12</td>\n",
       "      <td>0.0</td>\n",
       "      <td>2.053270e+05</td>\n",
       "      <td>50400.491887</td>\n",
       "      <td>28713.879887</td>\n",
       "    </tr>\n",
       "    <tr>\n",
       "      <th>std</th>\n",
       "      <td>8.404355e+07</td>\n",
       "      <td>7.011101e+05</td>\n",
       "      <td>2.554143e+07</td>\n",
       "      <td>85.903598</td>\n",
       "      <td>52255.873846</td>\n",
       "      <td>4.959738e+05</td>\n",
       "      <td>29.047395</td>\n",
       "      <td>4.848209e+08</td>\n",
       "      <td>0.0</td>\n",
       "      <td>2.321394e+09</td>\n",
       "      <td>3.622893e+08</td>\n",
       "      <td>3.989122e+08</td>\n",
       "      <td>0.0</td>\n",
       "      <td>5.097627e+06</td>\n",
       "      <td>30252.232515</td>\n",
       "      <td>16015.929825</td>\n",
       "    </tr>\n",
       "    <tr>\n",
       "      <th>min</th>\n",
       "      <td>9.217160e+05</td>\n",
       "      <td>1.000000e+00</td>\n",
       "      <td>1.009000e+03</td>\n",
       "      <td>1.000000</td>\n",
       "      <td>0.000000</td>\n",
       "      <td>1.000000e+00</td>\n",
       "      <td>1.000000</td>\n",
       "      <td>1.701811e+12</td>\n",
       "      <td>1.0</td>\n",
       "      <td>1.712903e+12</td>\n",
       "      <td>1.712346e+12</td>\n",
       "      <td>1.711317e+12</td>\n",
       "      <td>0.0</td>\n",
       "      <td>0.000000e+00</td>\n",
       "      <td>1001.000000</td>\n",
       "      <td>1003.000000</td>\n",
       "    </tr>\n",
       "    <tr>\n",
       "      <th>25%</th>\n",
       "      <td>3.894587e+09</td>\n",
       "      <td>4.828000e+01</td>\n",
       "      <td>1.435200e+04</td>\n",
       "      <td>3.000000</td>\n",
       "      <td>18.940000</td>\n",
       "      <td>3.700000e+01</td>\n",
       "      <td>1.000000</td>\n",
       "      <td>1.712863e+12</td>\n",
       "      <td>1.0</td>\n",
       "      <td>1.715481e+12</td>\n",
       "      <td>1.712670e+12</td>\n",
       "      <td>1.712886e+12</td>\n",
       "      <td>0.0</td>\n",
       "      <td>5.200000e+04</td>\n",
       "      <td>24112.000000</td>\n",
       "      <td>13121.000000</td>\n",
       "    </tr>\n",
       "    <tr>\n",
       "      <th>50%</th>\n",
       "      <td>3.901998e+09</td>\n",
       "      <td>8.000000e+04</td>\n",
       "      <td>2.269650e+05</td>\n",
       "      <td>4.000000</td>\n",
       "      <td>25.500000</td>\n",
       "      <td>6.000000e+04</td>\n",
       "      <td>3.000000</td>\n",
       "      <td>1.713395e+12</td>\n",
       "      <td>1.0</td>\n",
       "      <td>1.716042e+12</td>\n",
       "      <td>1.712670e+12</td>\n",
       "      <td>1.713408e+12</td>\n",
       "      <td>0.0</td>\n",
       "      <td>8.150000e+04</td>\n",
       "      <td>48059.000000</td>\n",
       "      <td>29183.000000</td>\n",
       "    </tr>\n",
       "    <tr>\n",
       "      <th>75%</th>\n",
       "      <td>3.904707e+09</td>\n",
       "      <td>1.400000e+05</td>\n",
       "      <td>8.047188e+06</td>\n",
       "      <td>8.000000</td>\n",
       "      <td>2510.500000</td>\n",
       "      <td>1.000000e+05</td>\n",
       "      <td>8.000000</td>\n",
       "      <td>1.713478e+12</td>\n",
       "      <td>1.0</td>\n",
       "      <td>1.716088e+12</td>\n",
       "      <td>1.713283e+12</td>\n",
       "      <td>1.713484e+12</td>\n",
       "      <td>0.0</td>\n",
       "      <td>1.250000e+05</td>\n",
       "      <td>78201.000000</td>\n",
       "      <td>42077.000000</td>\n",
       "    </tr>\n",
       "    <tr>\n",
       "      <th>max</th>\n",
       "      <td>3.906267e+09</td>\n",
       "      <td>1.200000e+08</td>\n",
       "      <td>1.034730e+08</td>\n",
       "      <td>9975.000000</td>\n",
       "      <td>750000.000000</td>\n",
       "      <td>8.500000e+07</td>\n",
       "      <td>967.000000</td>\n",
       "      <td>1.713573e+12</td>\n",
       "      <td>1.0</td>\n",
       "      <td>1.729125e+12</td>\n",
       "      <td>1.713562e+12</td>\n",
       "      <td>1.713573e+12</td>\n",
       "      <td>0.0</td>\n",
       "      <td>5.356000e+08</td>\n",
       "      <td>99901.000000</td>\n",
       "      <td>56045.000000</td>\n",
       "    </tr>\n",
       "  </tbody>\n",
       "</table>\n",
       "</div>"
      ],
      "text/plain": [
       "             job_id    max_salary    company_id          views     med_salary  \\\n",
       "count  1.238490e+05  2.979300e+04  1.221320e+05  122160.000000    6280.000000   \n",
       "mean   3.896402e+09  9.193942e+04  1.220401e+07      14.618247   22015.619876   \n",
       "std    8.404355e+07  7.011101e+05  2.554143e+07      85.903598   52255.873846   \n",
       "min    9.217160e+05  1.000000e+00  1.009000e+03       1.000000       0.000000   \n",
       "25%    3.894587e+09  4.828000e+01  1.435200e+04       3.000000      18.940000   \n",
       "50%    3.901998e+09  8.000000e+04  2.269650e+05       4.000000      25.500000   \n",
       "75%    3.904707e+09  1.400000e+05  8.047188e+06       8.000000    2510.500000   \n",
       "max    3.906267e+09  1.200000e+08  1.034730e+08    9975.000000  750000.000000   \n",
       "\n",
       "         min_salary       applies  original_listed_time  remote_allowed  \\\n",
       "count  2.979300e+04  23320.000000          1.238490e+05         15246.0   \n",
       "mean   6.491085e+04     10.591981          1.713152e+12             1.0   \n",
       "std    4.959738e+05     29.047395          4.848209e+08             0.0   \n",
       "min    1.000000e+00      1.000000          1.701811e+12             1.0   \n",
       "25%    3.700000e+01      1.000000          1.712863e+12             1.0   \n",
       "50%    6.000000e+04      3.000000          1.713395e+12             1.0   \n",
       "75%    1.000000e+05      8.000000          1.713478e+12             1.0   \n",
       "max    8.500000e+07    967.000000          1.713573e+12             1.0   \n",
       "\n",
       "             expiry   closed_time   listed_time  sponsored  normalized_salary  \\\n",
       "count  1.238490e+05  1.073000e+03  1.238490e+05   123849.0       3.607300e+04   \n",
       "mean   1.716213e+12  1.712928e+12  1.713204e+12        0.0       2.053270e+05   \n",
       "std    2.321394e+09  3.622893e+08  3.989122e+08        0.0       5.097627e+06   \n",
       "min    1.712903e+12  1.712346e+12  1.711317e+12        0.0       0.000000e+00   \n",
       "25%    1.715481e+12  1.712670e+12  1.712886e+12        0.0       5.200000e+04   \n",
       "50%    1.716042e+12  1.712670e+12  1.713408e+12        0.0       8.150000e+04   \n",
       "75%    1.716088e+12  1.713283e+12  1.713484e+12        0.0       1.250000e+05   \n",
       "max    1.729125e+12  1.713562e+12  1.713573e+12        0.0       5.356000e+08   \n",
       "\n",
       "            zip_code          fips  \n",
       "count  102977.000000  96434.000000  \n",
       "mean    50400.491887  28713.879887  \n",
       "std     30252.232515  16015.929825  \n",
       "min      1001.000000   1003.000000  \n",
       "25%     24112.000000  13121.000000  \n",
       "50%     48059.000000  29183.000000  \n",
       "75%     78201.000000  42077.000000  \n",
       "max     99901.000000  56045.000000  "
      ]
     },
     "execution_count": 5,
     "metadata": {},
     "output_type": "execute_result"
    }
   ],
   "source": [
    "postings.describe()"
   ]
  },
  {
   "cell_type": "code",
   "execution_count": 6,
   "metadata": {
    "execution": {
     "iopub.execute_input": "2025-03-07T07:03:07.548986Z",
     "iopub.status.busy": "2025-03-07T07:03:07.548746Z",
     "iopub.status.idle": "2025-03-07T07:03:07.652302Z",
     "shell.execute_reply": "2025-03-07T07:03:07.651531Z",
     "shell.execute_reply.started": "2025-03-07T07:03:07.548964Z"
    },
    "trusted": true
   },
   "outputs": [
    {
     "data": {
      "text/plain": [
       "job_id                             0\n",
       "company_name                    1719\n",
       "title                              0\n",
       "description                        7\n",
       "max_salary                     94056\n",
       "pay_period                     87776\n",
       "location                           0\n",
       "company_id                      1717\n",
       "views                           1689\n",
       "med_salary                    117569\n",
       "min_salary                     94056\n",
       "formatted_work_type                0\n",
       "applies                       100529\n",
       "original_listed_time               0\n",
       "remote_allowed                108603\n",
       "job_posting_url                    0\n",
       "application_url                36665\n",
       "application_type                   0\n",
       "expiry                             0\n",
       "closed_time                   122776\n",
       "formatted_experience_level     29409\n",
       "skills_desc                   121410\n",
       "listed_time                        0\n",
       "posting_domain                 39968\n",
       "sponsored                          0\n",
       "work_type                          0\n",
       "currency                       87776\n",
       "compensation_type              87776\n",
       "normalized_salary              87776\n",
       "zip_code                       20872\n",
       "fips                           27415\n",
       "dtype: int64"
      ]
     },
     "execution_count": 6,
     "metadata": {},
     "output_type": "execute_result"
    }
   ],
   "source": [
    "postings.isna().sum()"
   ]
  },
  {
   "cell_type": "code",
   "execution_count": 7,
   "metadata": {
    "execution": {
     "iopub.execute_input": "2025-03-07T07:03:07.653269Z",
     "iopub.status.busy": "2025-03-07T07:03:07.652998Z",
     "iopub.status.idle": "2025-03-07T07:03:07.683480Z",
     "shell.execute_reply": "2025-03-07T07:03:07.682819Z",
     "shell.execute_reply.started": "2025-03-07T07:03:07.653248Z"
    },
    "trusted": true
   },
   "outputs": [],
   "source": [
    "postings = postings.drop(['max_salary', 'med_salary', 'min_salary', 'pay_period', 'views', 'applies', 'remote_allowed', 'job_posting_url', 'expiry', 'closed_time', 'compensation_type', 'zip_code', 'fips'], axis= 1)"
   ]
  },
  {
   "cell_type": "code",
   "execution_count": 8,
   "metadata": {
    "execution": {
     "iopub.execute_input": "2025-03-07T07:03:07.684398Z",
     "iopub.status.busy": "2025-03-07T07:03:07.684177Z",
     "iopub.status.idle": "2025-03-07T07:03:07.774834Z",
     "shell.execute_reply": "2025-03-07T07:03:07.774064Z",
     "shell.execute_reply.started": "2025-03-07T07:03:07.684380Z"
    },
    "trusted": true
   },
   "outputs": [
    {
     "name": "stdout",
     "output_type": "stream",
     "text": [
      "123849\n"
     ]
    },
    {
     "data": {
      "text/plain": [
       "job_id                             0\n",
       "company_name                    1719\n",
       "title                              0\n",
       "description                        7\n",
       "location                           0\n",
       "company_id                      1717\n",
       "formatted_work_type                0\n",
       "original_listed_time               0\n",
       "application_url                36665\n",
       "application_type                   0\n",
       "formatted_experience_level     29409\n",
       "skills_desc                   121410\n",
       "listed_time                        0\n",
       "posting_domain                 39968\n",
       "sponsored                          0\n",
       "work_type                          0\n",
       "currency                       87776\n",
       "normalized_salary              87776\n",
       "dtype: int64"
      ]
     },
     "execution_count": 8,
     "metadata": {},
     "output_type": "execute_result"
    }
   ],
   "source": [
    "print(len(postings))\n",
    "postings.isna().sum()"
   ]
  },
  {
   "cell_type": "code",
   "execution_count": 9,
   "metadata": {
    "execution": {
     "iopub.execute_input": "2025-03-07T07:03:07.777336Z",
     "iopub.status.busy": "2025-03-07T07:03:07.777056Z",
     "iopub.status.idle": "2025-03-07T07:03:07.929622Z",
     "shell.execute_reply": "2025-03-07T07:03:07.928548Z",
     "shell.execute_reply.started": "2025-03-07T07:03:07.777313Z"
    },
    "trusted": true
   },
   "outputs": [
    {
     "name": "stdout",
     "output_type": "stream",
     "text": [
      "122124\n"
     ]
    },
    {
     "data": {
      "text/plain": [
       "job_id                             0\n",
       "company_name                       0\n",
       "title                              0\n",
       "description                        0\n",
       "location                           0\n",
       "company_id                         0\n",
       "formatted_work_type                0\n",
       "original_listed_time               0\n",
       "application_url                35055\n",
       "application_type                   0\n",
       "formatted_experience_level     27942\n",
       "skills_desc                   119688\n",
       "listed_time                        0\n",
       "posting_domain                 38244\n",
       "sponsored                          0\n",
       "work_type                          0\n",
       "currency                       86562\n",
       "normalized_salary              86562\n",
       "dtype: int64"
      ]
     },
     "execution_count": 9,
     "metadata": {},
     "output_type": "execute_result"
    }
   ],
   "source": [
    "postings = postings.dropna(subset= ['company_name', 'description'])\n",
    "print(len(postings))\n",
    "postings.isna().sum()"
   ]
  },
  {
   "cell_type": "code",
   "execution_count": 10,
   "metadata": {
    "execution": {
     "iopub.execute_input": "2025-03-07T07:03:07.932035Z",
     "iopub.status.busy": "2025-03-07T07:03:07.931760Z",
     "iopub.status.idle": "2025-03-07T07:03:08.045947Z",
     "shell.execute_reply": "2025-03-07T07:03:08.045172Z",
     "shell.execute_reply.started": "2025-03-07T07:03:07.932011Z"
    },
    "trusted": true
   },
   "outputs": [
    {
     "name": "stdout",
     "output_type": "stream",
     "text": [
      "122124\n"
     ]
    },
    {
     "data": {
      "text/plain": [
       "job_id                             0\n",
       "company_name                       0\n",
       "title                              0\n",
       "description                        0\n",
       "location                           0\n",
       "company_id                         0\n",
       "formatted_work_type                0\n",
       "original_listed_time               0\n",
       "application_url                    0\n",
       "application_type                   0\n",
       "formatted_experience_level     27942\n",
       "skills_desc                   119688\n",
       "listed_time                        0\n",
       "posting_domain                 38244\n",
       "sponsored                          0\n",
       "work_type                          0\n",
       "currency                       86562\n",
       "normalized_salary              86562\n",
       "dtype: int64"
      ]
     },
     "execution_count": 10,
     "metadata": {},
     "output_type": "execute_result"
    }
   ],
   "source": [
    "postings.fillna({'application_url': ''}, inplace = True)\n",
    "print(len(postings))\n",
    "postings.isna().sum()"
   ]
  },
  {
   "cell_type": "code",
   "execution_count": 11,
   "metadata": {
    "execution": {
     "iopub.execute_input": "2025-03-07T07:03:08.046944Z",
     "iopub.status.busy": "2025-03-07T07:03:08.046728Z",
     "iopub.status.idle": "2025-03-07T07:03:08.056861Z",
     "shell.execute_reply": "2025-03-07T07:03:08.055958Z",
     "shell.execute_reply.started": "2025-03-07T07:03:08.046926Z"
    },
    "trusted": true
   },
   "outputs": [
    {
     "data": {
      "text/plain": [
       "array([nan, 'Entry level', 'Mid-Senior level', 'Associate', 'Director',\n",
       "       'Internship', 'Executive'], dtype=object)"
      ]
     },
     "execution_count": 11,
     "metadata": {},
     "output_type": "execute_result"
    }
   ],
   "source": [
    "postings['formatted_experience_level'].unique()"
   ]
  },
  {
   "cell_type": "code",
   "execution_count": 12,
   "metadata": {
    "execution": {
     "iopub.execute_input": "2025-03-07T07:03:08.058135Z",
     "iopub.status.busy": "2025-03-07T07:03:08.057806Z",
     "iopub.status.idle": "2025-03-07T07:03:08.162653Z",
     "shell.execute_reply": "2025-03-07T07:03:08.161754Z",
     "shell.execute_reply.started": "2025-03-07T07:03:08.058097Z"
    },
    "trusted": true
   },
   "outputs": [
    {
     "data": {
      "text/plain": [
       "job_id                             0\n",
       "company_name                       0\n",
       "title                              0\n",
       "description                        0\n",
       "location                           0\n",
       "company_id                         0\n",
       "formatted_work_type                0\n",
       "original_listed_time               0\n",
       "application_url                    0\n",
       "application_type                   0\n",
       "formatted_experience_level         0\n",
       "skills_desc                   119688\n",
       "listed_time                        0\n",
       "posting_domain                 38244\n",
       "sponsored                          0\n",
       "work_type                          0\n",
       "currency                       86562\n",
       "normalized_salary              86562\n",
       "dtype: int64"
      ]
     },
     "execution_count": 12,
     "metadata": {},
     "output_type": "execute_result"
    }
   ],
   "source": [
    "postings.fillna({'formatted_experience_level': \"Undefined\"}, inplace= True)\n",
    "postings.isna().sum()"
   ]
  },
  {
   "cell_type": "code",
   "execution_count": 13,
   "metadata": {
    "execution": {
     "iopub.execute_input": "2025-03-07T07:03:08.163662Z",
     "iopub.status.busy": "2025-03-07T07:03:08.163429Z",
     "iopub.status.idle": "2025-03-07T07:03:08.264968Z",
     "shell.execute_reply": "2025-03-07T07:03:08.264197Z",
     "shell.execute_reply.started": "2025-03-07T07:03:08.163643Z"
    },
    "trusted": true
   },
   "outputs": [
    {
     "data": {
      "text/plain": [
       "job_id                             0\n",
       "company_name                       0\n",
       "title                              0\n",
       "description                        0\n",
       "location                           0\n",
       "company_id                         0\n",
       "formatted_work_type                0\n",
       "original_listed_time               0\n",
       "application_url                    0\n",
       "application_type                   0\n",
       "formatted_experience_level         0\n",
       "skills_desc                   119688\n",
       "listed_time                        0\n",
       "posting_domain                 38244\n",
       "sponsored                          0\n",
       "work_type                          0\n",
       "currency                           0\n",
       "normalized_salary                  0\n",
       "dtype: int64"
      ]
     },
     "execution_count": 13,
     "metadata": {},
     "output_type": "execute_result"
    }
   ],
   "source": [
    "postings.fillna({'normalized_salary': 0, 'currency': 'Undefined'}, inplace= True)\n",
    "postings.isna().sum()"
   ]
  },
  {
   "cell_type": "code",
   "execution_count": 14,
   "metadata": {
    "execution": {
     "iopub.execute_input": "2025-03-07T07:03:08.265953Z",
     "iopub.status.busy": "2025-03-07T07:03:08.265723Z",
     "iopub.status.idle": "2025-03-07T07:03:08.370965Z",
     "shell.execute_reply": "2025-03-07T07:03:08.370008Z",
     "shell.execute_reply.started": "2025-03-07T07:03:08.265933Z"
    },
    "trusted": true
   },
   "outputs": [
    {
     "data": {
      "text/plain": [
       "job_id                            0\n",
       "company_name                      0\n",
       "title                             0\n",
       "description                       0\n",
       "location                          0\n",
       "company_id                        0\n",
       "formatted_work_type               0\n",
       "original_listed_time              0\n",
       "application_url                   0\n",
       "application_type                  0\n",
       "formatted_experience_level        0\n",
       "listed_time                       0\n",
       "posting_domain                38244\n",
       "sponsored                         0\n",
       "work_type                         0\n",
       "currency                          0\n",
       "normalized_salary                 0\n",
       "dtype: int64"
      ]
     },
     "execution_count": 14,
     "metadata": {},
     "output_type": "execute_result"
    }
   ],
   "source": [
    "postings.drop('skills_desc', axis= 1, inplace= True)\n",
    "postings.isna().sum()"
   ]
  },
  {
   "cell_type": "code",
   "execution_count": 15,
   "metadata": {
    "execution": {
     "iopub.execute_input": "2025-03-07T07:03:08.372172Z",
     "iopub.status.busy": "2025-03-07T07:03:08.371899Z",
     "iopub.status.idle": "2025-03-07T07:03:08.472185Z",
     "shell.execute_reply": "2025-03-07T07:03:08.471329Z",
     "shell.execute_reply.started": "2025-03-07T07:03:08.372150Z"
    },
    "trusted": true
   },
   "outputs": [
    {
     "data": {
      "text/plain": [
       "job_id                        0\n",
       "company_name                  0\n",
       "title                         0\n",
       "description                   0\n",
       "location                      0\n",
       "company_id                    0\n",
       "formatted_work_type           0\n",
       "original_listed_time          0\n",
       "application_url               0\n",
       "application_type              0\n",
       "formatted_experience_level    0\n",
       "listed_time                   0\n",
       "sponsored                     0\n",
       "work_type                     0\n",
       "currency                      0\n",
       "normalized_salary             0\n",
       "dtype: int64"
      ]
     },
     "execution_count": 15,
     "metadata": {},
     "output_type": "execute_result"
    }
   ],
   "source": [
    "postings.drop('posting_domain', axis= 1, inplace= True)\n",
    "postings.isna().sum()"
   ]
  },
  {
   "cell_type": "code",
   "execution_count": 16,
   "metadata": {
    "execution": {
     "iopub.execute_input": "2025-03-07T07:03:08.473453Z",
     "iopub.status.busy": "2025-03-07T07:03:08.473085Z",
     "iopub.status.idle": "2025-03-07T07:03:08.577978Z",
     "shell.execute_reply": "2025-03-07T07:03:08.577205Z",
     "shell.execute_reply.started": "2025-03-07T07:03:08.473417Z"
    },
    "trusted": true
   },
   "outputs": [
    {
     "data": {
      "text/plain": [
       "job_id                        0\n",
       "company_name                  0\n",
       "title                         0\n",
       "description                   0\n",
       "location                      0\n",
       "company_id                    0\n",
       "formatted_work_type           0\n",
       "application_url               0\n",
       "application_type              0\n",
       "formatted_experience_level    0\n",
       "listed_time                   0\n",
       "sponsored                     0\n",
       "work_type                     0\n",
       "currency                      0\n",
       "normalized_salary             0\n",
       "dtype: int64"
      ]
     },
     "execution_count": 16,
     "metadata": {},
     "output_type": "execute_result"
    }
   ],
   "source": [
    "postings.drop('original_listed_time', axis= 1, inplace= True)\n",
    "postings.isna().sum()"
   ]
  },
  {
   "cell_type": "code",
   "execution_count": 17,
   "metadata": {
    "execution": {
     "iopub.execute_input": "2025-03-07T07:03:08.579227Z",
     "iopub.status.busy": "2025-03-07T07:03:08.578865Z",
     "iopub.status.idle": "2025-03-07T07:03:08.673836Z",
     "shell.execute_reply": "2025-03-07T07:03:08.673040Z",
     "shell.execute_reply.started": "2025-03-07T07:03:08.579193Z"
    },
    "trusted": true
   },
   "outputs": [
    {
     "data": {
      "text/plain": [
       "job_id                        0\n",
       "company_name                  0\n",
       "title                         0\n",
       "description                   0\n",
       "location                      0\n",
       "company_id                    0\n",
       "formatted_work_type           0\n",
       "application_type              0\n",
       "formatted_experience_level    0\n",
       "work_type                     0\n",
       "currency                      0\n",
       "normalized_salary             0\n",
       "dtype: int64"
      ]
     },
     "execution_count": 17,
     "metadata": {},
     "output_type": "execute_result"
    }
   ],
   "source": [
    "postings.drop(['application_url', 'listed_time', 'sponsored'], axis= 1, inplace= True)\n",
    "postings.isna().sum()"
   ]
  },
  {
   "cell_type": "code",
   "execution_count": 18,
   "metadata": {
    "execution": {
     "iopub.execute_input": "2025-03-07T07:03:08.675042Z",
     "iopub.status.busy": "2025-03-07T07:03:08.674726Z",
     "iopub.status.idle": "2025-03-07T07:03:08.689026Z",
     "shell.execute_reply": "2025-03-07T07:03:08.688175Z",
     "shell.execute_reply.started": "2025-03-07T07:03:08.675010Z"
    },
    "trusted": true
   },
   "outputs": [
    {
     "data": {
      "text/plain": [
       "formatted_work_type\n",
       "Full-time     97546\n",
       "Contract      11955\n",
       "Part-time      9488\n",
       "Temporary      1176\n",
       "Internship      955\n",
       "Volunteer       555\n",
       "Other           449\n",
       "Name: count, dtype: int64"
      ]
     },
     "execution_count": 18,
     "metadata": {},
     "output_type": "execute_result"
    }
   ],
   "source": [
    "postings['formatted_work_type'].value_counts()"
   ]
  },
  {
   "cell_type": "code",
   "execution_count": 19,
   "metadata": {
    "execution": {
     "iopub.execute_input": "2025-03-07T07:03:08.690572Z",
     "iopub.status.busy": "2025-03-07T07:03:08.690169Z",
     "iopub.status.idle": "2025-03-07T07:03:08.749827Z",
     "shell.execute_reply": "2025-03-07T07:03:08.748931Z",
     "shell.execute_reply.started": "2025-03-07T07:03:08.690536Z"
    },
    "trusted": true
   },
   "outputs": [
    {
     "data": {
      "text/plain": [
       "formatted_work_type\n",
       "Full-time     97546\n",
       "Contract      11955\n",
       "Part-time      9488\n",
       "Temporary      1176\n",
       "Internship      955\n",
       "Volunteer       555\n",
       "Name: count, dtype: int64"
      ]
     },
     "execution_count": 19,
     "metadata": {},
     "output_type": "execute_result"
    }
   ],
   "source": [
    "indices = postings[postings['formatted_work_type'] == 'Other'].index\n",
    "postings = postings.drop(indices)\n",
    "postings['formatted_work_type'].value_counts()"
   ]
  },
  {
   "cell_type": "code",
   "execution_count": 20,
   "metadata": {
    "execution": {
     "iopub.execute_input": "2025-03-07T07:03:08.751075Z",
     "iopub.status.busy": "2025-03-07T07:03:08.750811Z",
     "iopub.status.idle": "2025-03-07T07:03:08.831031Z",
     "shell.execute_reply": "2025-03-07T07:03:08.830182Z",
     "shell.execute_reply.started": "2025-03-07T07:03:08.751052Z"
    },
    "trusted": true
   },
   "outputs": [
    {
     "name": "stdout",
     "output_type": "stream",
     "text": [
      "<class 'pandas.core.frame.DataFrame'>\n",
      "Index: 121675 entries, 0 to 123848\n",
      "Data columns (total 11 columns):\n",
      " #   Column                      Non-Null Count   Dtype  \n",
      "---  ------                      --------------   -----  \n",
      " 0   job_id                      121675 non-null  int64  \n",
      " 1   company_name                121675 non-null  object \n",
      " 2   title                       121675 non-null  object \n",
      " 3   description                 121675 non-null  object \n",
      " 4   location                    121675 non-null  object \n",
      " 5   company_id                  121675 non-null  float64\n",
      " 6   application_type            121675 non-null  object \n",
      " 7   formatted_experience_level  121675 non-null  object \n",
      " 8   work_type                   121675 non-null  object \n",
      " 9   currency                    121675 non-null  object \n",
      " 10  normalized_salary           121675 non-null  float64\n",
      "dtypes: float64(2), int64(1), object(8)\n",
      "memory usage: 11.1+ MB\n"
     ]
    }
   ],
   "source": [
    "postings = postings.drop('formatted_work_type', axis = 1)\n",
    "postings.info()"
   ]
  },
  {
   "cell_type": "code",
   "execution_count": 21,
   "metadata": {
    "execution": {
     "iopub.execute_input": "2025-03-07T07:03:08.832288Z",
     "iopub.status.busy": "2025-03-07T07:03:08.831944Z",
     "iopub.status.idle": "2025-03-07T07:03:08.909613Z",
     "shell.execute_reply": "2025-03-07T07:03:08.908553Z",
     "shell.execute_reply.started": "2025-03-07T07:03:08.832262Z"
    },
    "trusted": true
   },
   "outputs": [
    {
     "name": "stdout",
     "output_type": "stream",
     "text": [
      "<class 'pandas.core.frame.DataFrame'>\n",
      "Index: 121675 entries, 0 to 123848\n",
      "Data columns (total 10 columns):\n",
      " #   Column                      Non-Null Count   Dtype  \n",
      "---  ------                      --------------   -----  \n",
      " 0   job_id                      121675 non-null  int64  \n",
      " 1   title                       121675 non-null  object \n",
      " 2   description                 121675 non-null  object \n",
      " 3   location                    121675 non-null  object \n",
      " 4   company_id                  121675 non-null  float64\n",
      " 5   application_type            121675 non-null  object \n",
      " 6   formatted_experience_level  121675 non-null  object \n",
      " 7   work_type                   121675 non-null  object \n",
      " 8   currency                    121675 non-null  object \n",
      " 9   normalized_salary           121675 non-null  float64\n",
      "dtypes: float64(2), int64(1), object(7)\n",
      "memory usage: 10.2+ MB\n"
     ]
    }
   ],
   "source": [
    "postings = postings.drop('company_name', axis = 1)\n",
    "postings.info()"
   ]
  },
  {
   "cell_type": "code",
   "execution_count": 22,
   "metadata": {
    "execution": {
     "iopub.execute_input": "2025-03-07T07:03:08.911135Z",
     "iopub.status.busy": "2025-03-07T07:03:08.910726Z",
     "iopub.status.idle": "2025-03-07T07:03:09.512618Z",
     "shell.execute_reply": "2025-03-07T07:03:09.511581Z",
     "shell.execute_reply.started": "2025-03-07T07:03:08.911075Z"
    },
    "trusted": true
   },
   "outputs": [
    {
     "data": {
      "text/plain": [
       "Index(['company_id', 'name', 'description', 'company_size', 'state', 'country',\n",
       "       'city', 'zip_code', 'address', 'url'],\n",
       "      dtype='object')"
      ]
     },
     "execution_count": 22,
     "metadata": {},
     "output_type": "execute_result"
    }
   ],
   "source": [
    "companies = pd.read_csv('/kaggle/input/linkedin-job-postings/companies/companies.csv')\n",
    "companies.columns"
   ]
  },
  {
   "cell_type": "code",
   "execution_count": 23,
   "metadata": {
    "execution": {
     "iopub.execute_input": "2025-03-07T07:03:09.513635Z",
     "iopub.status.busy": "2025-03-07T07:03:09.513391Z",
     "iopub.status.idle": "2025-03-07T07:03:09.533518Z",
     "shell.execute_reply": "2025-03-07T07:03:09.532566Z",
     "shell.execute_reply.started": "2025-03-07T07:03:09.513614Z"
    },
    "trusted": true
   },
   "outputs": [
    {
     "name": "stdout",
     "output_type": "stream",
     "text": [
      "<class 'pandas.core.frame.DataFrame'>\n",
      "RangeIndex: 24473 entries, 0 to 24472\n",
      "Data columns (total 6 columns):\n",
      " #   Column        Non-Null Count  Dtype  \n",
      "---  ------        --------------  -----  \n",
      " 0   company_id    24473 non-null  int64  \n",
      " 1   name          24472 non-null  object \n",
      " 2   description   24176 non-null  object \n",
      " 3   company_size  21699 non-null  float64\n",
      " 4   country       24473 non-null  object \n",
      " 5   city          24472 non-null  object \n",
      "dtypes: float64(1), int64(1), object(4)\n",
      "memory usage: 1.1+ MB\n"
     ]
    }
   ],
   "source": [
    "companies.drop(['zip_code', 'address', 'url', 'state'], axis = 1, inplace = True)\n",
    "companies.info()"
   ]
  },
  {
   "cell_type": "markdown",
   "metadata": {},
   "source": [
    "# Preprocessing Text Data"
   ]
  },
  {
   "cell_type": "code",
   "execution_count": 24,
   "metadata": {
    "execution": {
     "iopub.execute_input": "2025-03-05T12:17:01.019143Z",
     "iopub.status.busy": "2025-03-05T12:17:01.018841Z",
     "iopub.status.idle": "2025-03-05T12:17:02.491092Z",
     "shell.execute_reply": "2025-03-05T12:17:02.490176Z",
     "shell.execute_reply.started": "2025-03-05T12:17:01.019120Z"
    },
    "trusted": true
   },
   "outputs": [
    {
     "name": "stdout",
     "output_type": "stream",
     "text": [
      "[nltk_data] Downloading package punkt to /usr/share/nltk_data...\n",
      "[nltk_data]   Package punkt is already up-to-date!\n",
      "[nltk_data] Downloading package punkt_tab to /usr/share/nltk_data...\n",
      "[nltk_data]   Unzipping tokenizers/punkt_tab.zip.\n",
      "[nltk_data] Downloading package stopwords to /usr/share/nltk_data...\n",
      "[nltk_data]   Unzipping corpora/stopwords.zip.\n",
      "[nltk_data] Downloading package wordnet to /usr/share/nltk_data...\n",
      "[nltk_data]   Package wordnet is already up-to-date!\n"
     ]
    },
    {
     "data": {
      "text/plain": [
       "True"
      ]
     },
     "execution_count": 24,
     "metadata": {},
     "output_type": "execute_result"
    }
   ],
   "source": [
    "import re\n",
    "import nltk\n",
    "from nltk.corpus import stopwords\n",
    "from nltk.tokenize import word_tokenize\n",
    "from nltk.corpus import words\n",
    "from nltk.stem import WordNetLemmatizer\n",
    "\n",
    "nltk.download('punkt')\n",
    "nltk.download('punkt_tab')\n",
    "nltk.download('stopwords')\n",
    "nltk.download('wordnet')"
   ]
  },
  {
   "cell_type": "code",
   "execution_count": 25,
   "metadata": {
    "execution": {
     "iopub.execute_input": "2025-03-05T12:17:02.492927Z",
     "iopub.status.busy": "2025-03-05T12:17:02.492354Z",
     "iopub.status.idle": "2025-03-05T12:17:02.941559Z",
     "shell.execute_reply": "2025-03-05T12:17:02.940432Z",
     "shell.execute_reply.started": "2025-03-05T12:17:02.492899Z"
    },
    "trusted": true
   },
   "outputs": [
    {
     "name": "stdout",
     "output_type": "stream",
     "text": [
      "Archive:  /usr/share/nltk_data/corpora/wordnet.zip\n",
      "   creating: /usr/share/nltk_data/corpora/wordnet/\n",
      "  inflating: /usr/share/nltk_data/corpora/wordnet/lexnames  \n",
      "  inflating: /usr/share/nltk_data/corpora/wordnet/data.verb  \n",
      "  inflating: /usr/share/nltk_data/corpora/wordnet/index.adv  \n",
      "  inflating: /usr/share/nltk_data/corpora/wordnet/adv.exc  \n",
      "  inflating: /usr/share/nltk_data/corpora/wordnet/index.verb  \n",
      "  inflating: /usr/share/nltk_data/corpora/wordnet/cntlist.rev  \n",
      "  inflating: /usr/share/nltk_data/corpora/wordnet/data.adj  \n",
      "  inflating: /usr/share/nltk_data/corpora/wordnet/index.adj  \n",
      "  inflating: /usr/share/nltk_data/corpora/wordnet/LICENSE  \n",
      "  inflating: /usr/share/nltk_data/corpora/wordnet/citation.bib  \n",
      "  inflating: /usr/share/nltk_data/corpora/wordnet/noun.exc  \n",
      "  inflating: /usr/share/nltk_data/corpora/wordnet/verb.exc  \n",
      "  inflating: /usr/share/nltk_data/corpora/wordnet/README  \n",
      "  inflating: /usr/share/nltk_data/corpora/wordnet/index.sense  \n",
      "  inflating: /usr/share/nltk_data/corpora/wordnet/data.noun  \n",
      "  inflating: /usr/share/nltk_data/corpora/wordnet/data.adv  \n",
      "  inflating: /usr/share/nltk_data/corpora/wordnet/index.noun  \n",
      "  inflating: /usr/share/nltk_data/corpora/wordnet/adj.exc  \n"
     ]
    }
   ],
   "source": [
    "!unzip /usr/share/nltk_data/corpora/wordnet.zip -d /usr/share/nltk_data/corpora/"
   ]
  },
  {
   "cell_type": "code",
   "execution_count": 26,
   "metadata": {
    "execution": {
     "iopub.execute_input": "2025-03-05T12:17:02.943660Z",
     "iopub.status.busy": "2025-03-05T12:17:02.943332Z",
     "iopub.status.idle": "2025-03-05T12:17:03.068870Z",
     "shell.execute_reply": "2025-03-05T12:17:03.068134Z",
     "shell.execute_reply.started": "2025-03-05T12:17:02.943634Z"
    },
    "trusted": true
   },
   "outputs": [],
   "source": [
    "stop_words = set(stopwords.words('english'))\n",
    "english_words = set(words.words())\n",
    "lemmatizer = WordNetLemmatizer()"
   ]
  },
  {
   "cell_type": "code",
   "execution_count": 27,
   "metadata": {
    "execution": {
     "iopub.execute_input": "2025-03-05T12:17:03.070171Z",
     "iopub.status.busy": "2025-03-05T12:17:03.069955Z",
     "iopub.status.idle": "2025-03-05T12:17:03.074355Z",
     "shell.execute_reply": "2025-03-05T12:17:03.073487Z",
     "shell.execute_reply.started": "2025-03-05T12:17:03.070152Z"
    },
    "trusted": true
   },
   "outputs": [],
   "source": [
    "def lemmatize_words(text):\n",
    "    #word_tokens = word_tokenize(text)\n",
    "    lemmas = [lemmatizer.lemmatize(word, pos ='v') for word in text]\n",
    "    return lemmas"
   ]
  },
  {
   "cell_type": "code",
   "execution_count": 28,
   "metadata": {
    "execution": {
     "iopub.execute_input": "2025-03-05T12:17:03.379501Z",
     "iopub.status.busy": "2025-03-05T12:17:03.379174Z",
     "iopub.status.idle": "2025-03-05T12:17:03.383181Z",
     "shell.execute_reply": "2025-03-05T12:17:03.382314Z",
     "shell.execute_reply.started": "2025-03-05T12:17:03.379473Z"
    },
    "trusted": true
   },
   "outputs": [],
   "source": [
    "URL_PATTERN = r'(?:http[s]?:\\/\\/.)?(?:www\\.)?[-a-zA-Z0-9@%._\\+~#=]{2,256}\\.[a-z]{2,6}\\b(?:[-a-zA-Z0-9@:%_\\+.~#?&\\/\\/=]*)'"
   ]
  },
  {
   "cell_type": "markdown",
   "metadata": {},
   "source": [
    "# Extract English Words"
   ]
  },
  {
   "cell_type": "code",
   "execution_count": 29,
   "metadata": {
    "execution": {
     "iopub.execute_input": "2025-03-05T12:17:03.801628Z",
     "iopub.status.busy": "2025-03-05T12:17:03.801316Z",
     "iopub.status.idle": "2025-03-05T12:17:03.807036Z",
     "shell.execute_reply": "2025-03-05T12:17:03.805964Z",
     "shell.execute_reply.started": "2025-03-05T12:17:03.801605Z"
    },
    "trusted": true
   },
   "outputs": [],
   "source": [
    "def preprocess_text(txt):\n",
    "\n",
    "    if not txt:\n",
    "        return \"\"\n",
    "\n",
    "    txt = txt.lower()\n",
    "\n",
    "    txt = re.sub(URL_PATTERN, '', txt) # to remove links\n",
    "    \n",
    "    txt = re.sub(r'<.*?>', '', txt) # to remove html tags </>\n",
    "    \n",
    "    txt = re.sub(r'[^a-z ]', '', txt) # remove non-alpha character\n",
    "    \n",
    "    txt = re.sub(r'\\s+', ' ', txt) # replace multiple spaces with single space\n",
    "    \n",
    "    tokenized_txt = word_tokenize(txt)\n",
    "    words = [word for word in tokenized_txt if ((len(word) > 1) and word not in stop_words)]\n",
    "    lemmas = lemmatize_words(words)\n",
    "\n",
    "    return lemmas"
   ]
  },
  {
   "cell_type": "code",
   "execution_count": 30,
   "metadata": {
    "execution": {
     "iopub.execute_input": "2025-03-05T12:17:04.086772Z",
     "iopub.status.busy": "2025-03-05T12:17:04.086401Z",
     "iopub.status.idle": "2025-03-05T12:17:04.090508Z",
     "shell.execute_reply": "2025-03-05T12:17:04.089686Z",
     "shell.execute_reply.started": "2025-03-05T12:17:04.086722Z"
    },
    "trusted": true
   },
   "outputs": [],
   "source": [
    "def clean_text(txt):\n",
    "\n",
    "    tokenized_txt = preprocess_text(txt)\n",
    "    txt = ' '.join(tokenized_txt) # remove stop words\n",
    "\n",
    "    return txt"
   ]
  },
  {
   "cell_type": "code",
   "execution_count": 31,
   "metadata": {
    "execution": {
     "iopub.execute_input": "2025-03-05T12:17:06.517573Z",
     "iopub.status.busy": "2025-03-05T12:17:06.517278Z",
     "iopub.status.idle": "2025-03-05T12:17:06.542080Z",
     "shell.execute_reply": "2025-03-05T12:17:06.541384Z",
     "shell.execute_reply.started": "2025-03-05T12:17:06.517550Z"
    },
    "trusted": true
   },
   "outputs": [],
   "source": [
    "from tqdm import tqdm"
   ]
  },
  {
   "cell_type": "code",
   "execution_count": 33,
   "metadata": {
    "execution": {
     "iopub.execute_input": "2025-03-01T20:09:29.123759Z",
     "iopub.status.busy": "2025-03-01T20:09:29.123372Z",
     "iopub.status.idle": "2025-03-01T20:19:11.650932Z",
     "shell.execute_reply": "2025-03-01T20:19:11.649947Z",
     "shell.execute_reply.started": "2025-03-01T20:09:29.123731Z"
    },
    "trusted": true
   },
   "outputs": [],
   "source": [
    "preprocessed_tokens = postings['description'].apply(preprocess_text)"
   ]
  },
  {
   "cell_type": "code",
   "execution_count": 34,
   "metadata": {
    "execution": {
     "iopub.execute_input": "2025-03-01T20:19:11.652153Z",
     "iopub.status.busy": "2025-03-01T20:19:11.651882Z",
     "iopub.status.idle": "2025-03-01T20:19:13.123344Z",
     "shell.execute_reply": "2025-03-01T20:19:13.122317Z",
     "shell.execute_reply.started": "2025-03-01T20:19:11.652130Z"
    },
    "trusted": true
   },
   "outputs": [],
   "source": [
    "preprocessed_description = preprocessed_tokens.apply(' '.join)"
   ]
  },
  {
   "cell_type": "code",
   "execution_count": 32,
   "metadata": {
    "execution": {
     "iopub.execute_input": "2025-03-05T12:17:14.059712Z",
     "iopub.status.busy": "2025-03-05T12:17:14.059421Z",
     "iopub.status.idle": "2025-03-05T12:17:14.081569Z",
     "shell.execute_reply": "2025-03-05T12:17:14.080855Z",
     "shell.execute_reply.started": "2025-03-05T12:17:14.059689Z"
    },
    "trusted": true
   },
   "outputs": [],
   "source": [
    "samples_df = postings.sample(1000)\n",
    "jobs = samples_df.to_dict(orient='records')"
   ]
  },
  {
   "cell_type": "markdown",
   "metadata": {},
   "source": [
    "# Text Embedding"
   ]
  },
  {
   "cell_type": "code",
   "execution_count": 33,
   "metadata": {
    "execution": {
     "iopub.execute_input": "2025-03-05T12:17:15.959204Z",
     "iopub.status.busy": "2025-03-05T12:17:15.958916Z",
     "iopub.status.idle": "2025-03-05T12:17:20.235744Z",
     "shell.execute_reply": "2025-03-05T12:17:20.234646Z",
     "shell.execute_reply.started": "2025-03-05T12:17:15.959183Z"
    },
    "trusted": true
   },
   "outputs": [
    {
     "name": "stdout",
     "output_type": "stream",
     "text": [
      "Requirement already satisfied: sentence_transformers in /usr/local/lib/python3.10/dist-packages (3.3.1)\n",
      "Requirement already satisfied: transformers<5.0.0,>=4.41.0 in /usr/local/lib/python3.10/dist-packages (from sentence_transformers) (4.47.0)\n",
      "Requirement already satisfied: tqdm in /usr/local/lib/python3.10/dist-packages (from sentence_transformers) (4.67.1)\n",
      "Requirement already satisfied: torch>=1.11.0 in /usr/local/lib/python3.10/dist-packages (from sentence_transformers) (2.5.1+cu121)\n",
      "Requirement already satisfied: scikit-learn in /usr/local/lib/python3.10/dist-packages (from sentence_transformers) (1.2.2)\n",
      "Requirement already satisfied: scipy in /usr/local/lib/python3.10/dist-packages (from sentence_transformers) (1.13.1)\n",
      "Requirement already satisfied: huggingface-hub>=0.20.0 in /usr/local/lib/python3.10/dist-packages (from sentence_transformers) (0.28.1)\n",
      "Requirement already satisfied: Pillow in /usr/local/lib/python3.10/dist-packages (from sentence_transformers) (11.0.0)\n",
      "Requirement already satisfied: filelock in /usr/local/lib/python3.10/dist-packages (from huggingface-hub>=0.20.0->sentence_transformers) (3.17.0)\n",
      "Requirement already satisfied: fsspec>=2023.5.0 in /usr/local/lib/python3.10/dist-packages (from huggingface-hub>=0.20.0->sentence_transformers) (2024.9.0)\n",
      "Requirement already satisfied: packaging>=20.9 in /usr/local/lib/python3.10/dist-packages (from huggingface-hub>=0.20.0->sentence_transformers) (24.2)\n",
      "Requirement already satisfied: pyyaml>=5.1 in /usr/local/lib/python3.10/dist-packages (from huggingface-hub>=0.20.0->sentence_transformers) (6.0.2)\n",
      "Requirement already satisfied: requests in /usr/local/lib/python3.10/dist-packages (from huggingface-hub>=0.20.0->sentence_transformers) (2.32.3)\n",
      "Requirement already satisfied: typing-extensions>=3.7.4.3 in /usr/local/lib/python3.10/dist-packages (from huggingface-hub>=0.20.0->sentence_transformers) (4.12.2)\n",
      "Requirement already satisfied: networkx in /usr/local/lib/python3.10/dist-packages (from torch>=1.11.0->sentence_transformers) (3.4.2)\n",
      "Requirement already satisfied: jinja2 in /usr/local/lib/python3.10/dist-packages (from torch>=1.11.0->sentence_transformers) (3.1.4)\n",
      "Requirement already satisfied: sympy==1.13.1 in /usr/local/lib/python3.10/dist-packages (from torch>=1.11.0->sentence_transformers) (1.13.1)\n",
      "Requirement already satisfied: mpmath<1.4,>=1.1.0 in /usr/local/lib/python3.10/dist-packages (from sympy==1.13.1->torch>=1.11.0->sentence_transformers) (1.3.0)\n",
      "Requirement already satisfied: numpy>=1.17 in /usr/local/lib/python3.10/dist-packages (from transformers<5.0.0,>=4.41.0->sentence_transformers) (1.26.4)\n",
      "Requirement already satisfied: regex!=2019.12.17 in /usr/local/lib/python3.10/dist-packages (from transformers<5.0.0,>=4.41.0->sentence_transformers) (2024.11.6)\n",
      "Requirement already satisfied: tokenizers<0.22,>=0.21 in /usr/local/lib/python3.10/dist-packages (from transformers<5.0.0,>=4.41.0->sentence_transformers) (0.21.0)\n",
      "Requirement already satisfied: safetensors>=0.4.1 in /usr/local/lib/python3.10/dist-packages (from transformers<5.0.0,>=4.41.0->sentence_transformers) (0.4.5)\n",
      "Requirement already satisfied: joblib>=1.1.1 in /usr/local/lib/python3.10/dist-packages (from scikit-learn->sentence_transformers) (1.4.2)\n",
      "Requirement already satisfied: threadpoolctl>=2.0.0 in /usr/local/lib/python3.10/dist-packages (from scikit-learn->sentence_transformers) (3.5.0)\n",
      "Requirement already satisfied: mkl_fft in /usr/local/lib/python3.10/dist-packages (from numpy>=1.17->transformers<5.0.0,>=4.41.0->sentence_transformers) (1.3.8)\n",
      "Requirement already satisfied: mkl_random in /usr/local/lib/python3.10/dist-packages (from numpy>=1.17->transformers<5.0.0,>=4.41.0->sentence_transformers) (1.2.4)\n",
      "Requirement already satisfied: mkl_umath in /usr/local/lib/python3.10/dist-packages (from numpy>=1.17->transformers<5.0.0,>=4.41.0->sentence_transformers) (0.1.1)\n",
      "Requirement already satisfied: mkl in /usr/local/lib/python3.10/dist-packages (from numpy>=1.17->transformers<5.0.0,>=4.41.0->sentence_transformers) (2025.0.1)\n",
      "Requirement already satisfied: tbb4py in /usr/local/lib/python3.10/dist-packages (from numpy>=1.17->transformers<5.0.0,>=4.41.0->sentence_transformers) (2022.0.0)\n",
      "Requirement already satisfied: mkl-service in /usr/local/lib/python3.10/dist-packages (from numpy>=1.17->transformers<5.0.0,>=4.41.0->sentence_transformers) (2.4.1)\n",
      "Requirement already satisfied: MarkupSafe>=2.0 in /usr/local/lib/python3.10/dist-packages (from jinja2->torch>=1.11.0->sentence_transformers) (3.0.2)\n",
      "Requirement already satisfied: charset-normalizer<4,>=2 in /usr/local/lib/python3.10/dist-packages (from requests->huggingface-hub>=0.20.0->sentence_transformers) (3.4.1)\n",
      "Requirement already satisfied: idna<4,>=2.5 in /usr/local/lib/python3.10/dist-packages (from requests->huggingface-hub>=0.20.0->sentence_transformers) (3.10)\n",
      "Requirement already satisfied: urllib3<3,>=1.21.1 in /usr/local/lib/python3.10/dist-packages (from requests->huggingface-hub>=0.20.0->sentence_transformers) (2.3.0)\n",
      "Requirement already satisfied: certifi>=2017.4.17 in /usr/local/lib/python3.10/dist-packages (from requests->huggingface-hub>=0.20.0->sentence_transformers) (2025.1.31)\n",
      "Requirement already satisfied: intel-openmp>=2024 in /usr/local/lib/python3.10/dist-packages (from mkl->numpy>=1.17->transformers<5.0.0,>=4.41.0->sentence_transformers) (2024.2.0)\n",
      "Requirement already satisfied: tbb==2022.* in /usr/local/lib/python3.10/dist-packages (from mkl->numpy>=1.17->transformers<5.0.0,>=4.41.0->sentence_transformers) (2022.0.0)\n",
      "Requirement already satisfied: tcmlib==1.* in /usr/local/lib/python3.10/dist-packages (from tbb==2022.*->mkl->numpy>=1.17->transformers<5.0.0,>=4.41.0->sentence_transformers) (1.2.0)\n",
      "Requirement already satisfied: intel-cmplr-lib-rt in /usr/local/lib/python3.10/dist-packages (from mkl_umath->numpy>=1.17->transformers<5.0.0,>=4.41.0->sentence_transformers) (2024.2.0)\n",
      "Requirement already satisfied: intel-cmplr-lib-ur==2024.2.0 in /usr/local/lib/python3.10/dist-packages (from intel-openmp>=2024->mkl->numpy>=1.17->transformers<5.0.0,>=4.41.0->sentence_transformers) (2024.2.0)\n"
     ]
    }
   ],
   "source": [
    "!pip install sentence_transformers"
   ]
  },
  {
   "cell_type": "code",
   "execution_count": 36,
   "metadata": {
    "execution": {
     "iopub.execute_input": "2025-03-05T12:18:06.757620Z",
     "iopub.status.busy": "2025-03-05T12:18:06.757318Z",
     "iopub.status.idle": "2025-03-05T12:18:06.761192Z",
     "shell.execute_reply": "2025-03-05T12:18:06.760367Z",
     "shell.execute_reply.started": "2025-03-05T12:18:06.757586Z"
    },
    "trusted": true
   },
   "outputs": [],
   "source": [
    "import torch"
   ]
  },
  {
   "cell_type": "code",
   "execution_count": 37,
   "metadata": {
    "execution": {
     "iopub.execute_input": "2025-03-05T12:18:06.787304Z",
     "iopub.status.busy": "2025-03-05T12:18:06.787103Z",
     "iopub.status.idle": "2025-03-05T12:18:06.790833Z",
     "shell.execute_reply": "2025-03-05T12:18:06.789969Z",
     "shell.execute_reply.started": "2025-03-05T12:18:06.787287Z"
    },
    "trusted": true
   },
   "outputs": [],
   "source": [
    "torch.set_default_device('cpu')"
   ]
  },
  {
   "cell_type": "code",
   "execution_count": 38,
   "metadata": {
    "execution": {
     "iopub.execute_input": "2025-03-05T12:18:08.950088Z",
     "iopub.status.busy": "2025-03-05T12:18:08.949775Z",
     "iopub.status.idle": "2025-03-05T12:18:10.448484Z",
     "shell.execute_reply": "2025-03-05T12:18:10.447836Z",
     "shell.execute_reply.started": "2025-03-05T12:18:08.950065Z"
    },
    "trusted": true
   },
   "outputs": [],
   "source": [
    "from sentence_transformers import SentenceTransformer\n",
    "\n",
    "minilm_model = SentenceTransformer(\"sentence-transformers/all-MiniLM-L6-v2\")\n",
    "minilm_model.save('/kaggle/working/minilm')"
   ]
  },
  {
   "cell_type": "code",
   "execution_count": 38,
   "metadata": {
    "execution": {
     "iopub.execute_input": "2025-03-01T20:19:58.532545Z",
     "iopub.status.busy": "2025-03-01T20:19:58.531729Z",
     "iopub.status.idle": "2025-03-01T20:20:05.110221Z",
     "shell.execute_reply": "2025-03-01T20:20:05.109027Z",
     "shell.execute_reply.started": "2025-03-01T20:19:58.532509Z"
    },
    "trusted": true
   },
   "outputs": [
    {
     "name": "stdout",
     "output_type": "stream",
     "text": [
      "  adding: kaggle/working/minilm/ (stored 0%)\n",
      "  adding: kaggle/working/minilm/config.json (deflated 47%)\n",
      "  adding: kaggle/working/minilm/tokenizer.json (deflated 71%)\n",
      "  adding: kaggle/working/minilm/1_Pooling/ (stored 0%)\n",
      "  adding: kaggle/working/minilm/1_Pooling/config.json (deflated 57%)\n",
      "  adding: kaggle/working/minilm/README.md (deflated 64%)\n",
      "  adding: kaggle/working/minilm/model.safetensors (deflated 9%)\n",
      "  adding: kaggle/working/minilm/2_Normalize/ (stored 0%)\n",
      "  adding: kaggle/working/minilm/special_tokens_map.json (deflated 80%)\n",
      "  adding: kaggle/working/minilm/config_sentence_transformers.json (deflated 34%)\n",
      "  adding: kaggle/working/minilm/vocab.txt (deflated 53%)\n",
      "  adding: kaggle/working/minilm/tokenizer_config.json (deflated 73%)\n",
      "  adding: kaggle/working/minilm/sentence_bert_config.json (deflated 4%)\n",
      "  adding: kaggle/working/minilm/modules.json (deflated 62%)\n"
     ]
    }
   ],
   "source": [
    "!zip -r /kaggle/working/MiniLM.zip /kaggle/working/minilm"
   ]
  },
  {
   "cell_type": "markdown",
   "metadata": {},
   "source": [
    "# TF-IDF Vectorizer"
   ]
  },
  {
   "cell_type": "code",
   "execution_count": 39,
   "metadata": {
    "execution": {
     "iopub.execute_input": "2025-03-05T12:18:27.199264Z",
     "iopub.status.busy": "2025-03-05T12:18:27.198967Z",
     "iopub.status.idle": "2025-03-05T12:18:33.872365Z",
     "shell.execute_reply": "2025-03-05T12:18:33.871429Z",
     "shell.execute_reply.started": "2025-03-05T12:18:27.199241Z"
    },
    "trusted": true
   },
   "outputs": [
    {
     "name": "stdout",
     "output_type": "stream",
     "text": [
      "Requirement already satisfied: scikit-learn in /usr/local/lib/python3.10/dist-packages (1.2.2)\n",
      "Collecting scikit-learn\n",
      "  Downloading scikit_learn-1.6.1-cp310-cp310-manylinux_2_17_x86_64.manylinux2014_x86_64.whl.metadata (18 kB)\n",
      "Requirement already satisfied: numpy>=1.19.5 in /usr/local/lib/python3.10/dist-packages (from scikit-learn) (1.26.4)\n",
      "Requirement already satisfied: scipy>=1.6.0 in /usr/local/lib/python3.10/dist-packages (from scikit-learn) (1.13.1)\n",
      "Requirement already satisfied: joblib>=1.2.0 in /usr/local/lib/python3.10/dist-packages (from scikit-learn) (1.4.2)\n",
      "Requirement already satisfied: threadpoolctl>=3.1.0 in /usr/local/lib/python3.10/dist-packages (from scikit-learn) (3.5.0)\n",
      "Requirement already satisfied: mkl_fft in /usr/local/lib/python3.10/dist-packages (from numpy>=1.19.5->scikit-learn) (1.3.8)\n",
      "Requirement already satisfied: mkl_random in /usr/local/lib/python3.10/dist-packages (from numpy>=1.19.5->scikit-learn) (1.2.4)\n",
      "Requirement already satisfied: mkl_umath in /usr/local/lib/python3.10/dist-packages (from numpy>=1.19.5->scikit-learn) (0.1.1)\n",
      "Requirement already satisfied: mkl in /usr/local/lib/python3.10/dist-packages (from numpy>=1.19.5->scikit-learn) (2025.0.1)\n",
      "Requirement already satisfied: tbb4py in /usr/local/lib/python3.10/dist-packages (from numpy>=1.19.5->scikit-learn) (2022.0.0)\n",
      "Requirement already satisfied: mkl-service in /usr/local/lib/python3.10/dist-packages (from numpy>=1.19.5->scikit-learn) (2.4.1)\n",
      "Requirement already satisfied: intel-openmp>=2024 in /usr/local/lib/python3.10/dist-packages (from mkl->numpy>=1.19.5->scikit-learn) (2024.2.0)\n",
      "Requirement already satisfied: tbb==2022.* in /usr/local/lib/python3.10/dist-packages (from mkl->numpy>=1.19.5->scikit-learn) (2022.0.0)\n",
      "Requirement already satisfied: tcmlib==1.* in /usr/local/lib/python3.10/dist-packages (from tbb==2022.*->mkl->numpy>=1.19.5->scikit-learn) (1.2.0)\n",
      "Requirement already satisfied: intel-cmplr-lib-rt in /usr/local/lib/python3.10/dist-packages (from mkl_umath->numpy>=1.19.5->scikit-learn) (2024.2.0)\n",
      "Requirement already satisfied: intel-cmplr-lib-ur==2024.2.0 in /usr/local/lib/python3.10/dist-packages (from intel-openmp>=2024->mkl->numpy>=1.19.5->scikit-learn) (2024.2.0)\n",
      "Downloading scikit_learn-1.6.1-cp310-cp310-manylinux_2_17_x86_64.manylinux2014_x86_64.whl (13.5 MB)\n",
      "\u001b[2K   \u001b[90m━━━━━━━━━━━━━━━━━━━━━━━━━━━━━━━━━━━━━━━━\u001b[0m \u001b[32m13.5/13.5 MB\u001b[0m \u001b[31m99.8 MB/s\u001b[0m eta \u001b[36m0:00:00\u001b[0m:00:01\u001b[0m:01\u001b[0m\n",
      "\u001b[?25hInstalling collected packages: scikit-learn\n",
      "  Attempting uninstall: scikit-learn\n",
      "    Found existing installation: scikit-learn 1.2.2\n",
      "    Uninstalling scikit-learn-1.2.2:\n",
      "      Successfully uninstalled scikit-learn-1.2.2\n",
      "\u001b[31mERROR: pip's dependency resolver does not currently take into account all the packages that are installed. This behaviour is the source of the following dependency conflicts.\n",
      "category-encoders 2.7.0 requires scikit-learn<1.6.0,>=1.0.0, but you have scikit-learn 1.6.1 which is incompatible.\u001b[0m\u001b[31m\n",
      "\u001b[0mSuccessfully installed scikit-learn-1.6.1\n",
      "Note: you may need to restart the kernel to use updated packages.\n"
     ]
    }
   ],
   "source": [
    "%pip install -U scikit-learn"
   ]
  },
  {
   "cell_type": "code",
   "execution_count": 40,
   "metadata": {
    "execution": {
     "iopub.execute_input": "2025-03-05T12:18:33.874036Z",
     "iopub.status.busy": "2025-03-05T12:18:33.873753Z",
     "iopub.status.idle": "2025-03-05T12:18:33.877808Z",
     "shell.execute_reply": "2025-03-05T12:18:33.876968Z",
     "shell.execute_reply.started": "2025-03-05T12:18:33.874014Z"
    },
    "trusted": true
   },
   "outputs": [],
   "source": [
    "from sklearn.feature_extraction.text import TfidfVectorizer\n",
    "import matplotlib.pyplot as plt"
   ]
  },
  {
   "cell_type": "code",
   "execution_count": 37,
   "metadata": {
    "execution": {
     "iopub.execute_input": "2025-03-05T12:09:53.160940Z",
     "iopub.status.busy": "2025-03-05T12:09:53.160699Z",
     "iopub.status.idle": "2025-03-05T12:09:53.470505Z",
     "shell.execute_reply": "2025-03-05T12:09:53.469305Z",
     "shell.execute_reply.started": "2025-03-05T12:09:53.160921Z"
    },
    "trusted": true
   },
   "outputs": [
    {
     "ename": "NameError",
     "evalue": "name 'preprocessed_description' is not defined",
     "output_type": "error",
     "traceback": [
      "\u001b[0;31m---------------------------------------------------------------------------\u001b[0m",
      "\u001b[0;31mNameError\u001b[0m                                 Traceback (most recent call last)",
      "\u001b[0;32m<ipython-input-37-d572615ed02c>\u001b[0m in \u001b[0;36m<cell line: 2>\u001b[0;34m()\u001b[0m\n\u001b[1;32m      1\u001b[0m \u001b[0mtfidf\u001b[0m \u001b[0;34m=\u001b[0m \u001b[0mTfidfVectorizer\u001b[0m\u001b[0;34m(\u001b[0m\u001b[0mmin_df\u001b[0m\u001b[0;34m=\u001b[0m \u001b[0;36m0.0001\u001b[0m\u001b[0;34m,\u001b[0m \u001b[0mmax_df\u001b[0m\u001b[0;34m=\u001b[0m \u001b[0;36m0.95\u001b[0m\u001b[0;34m,\u001b[0m \u001b[0mstop_words\u001b[0m\u001b[0;34m=\u001b[0m\u001b[0;34m'english'\u001b[0m\u001b[0;34m)\u001b[0m\u001b[0;34m\u001b[0m\u001b[0;34m\u001b[0m\u001b[0m\n\u001b[0;32m----> 2\u001b[0;31m \u001b[0mtfidf\u001b[0m\u001b[0;34m.\u001b[0m\u001b[0mfit\u001b[0m\u001b[0;34m(\u001b[0m\u001b[0mpreprocessed_description\u001b[0m\u001b[0;34m)\u001b[0m\u001b[0;34m\u001b[0m\u001b[0;34m\u001b[0m\u001b[0m\n\u001b[0m\u001b[1;32m      3\u001b[0m \u001b[0mprint\u001b[0m\u001b[0;34m(\u001b[0m\u001b[0mlen\u001b[0m\u001b[0;34m(\u001b[0m\u001b[0mtfidf\u001b[0m\u001b[0;34m.\u001b[0m\u001b[0mget_feature_names_out\u001b[0m\u001b[0;34m(\u001b[0m\u001b[0;34m)\u001b[0m\u001b[0;34m)\u001b[0m\u001b[0;34m)\u001b[0m\u001b[0;34m\u001b[0m\u001b[0;34m\u001b[0m\u001b[0m\n\u001b[1;32m      4\u001b[0m \u001b[0mtfidf\u001b[0m\u001b[0;34m\u001b[0m\u001b[0;34m\u001b[0m\u001b[0m\n",
      "\u001b[0;31mNameError\u001b[0m: name 'preprocessed_description' is not defined"
     ]
    }
   ],
   "source": [
    "tfidf = TfidfVectorizer(min_df= 0.0001, max_df= 0.95, stop_words='english')\n",
    "tfidf.fit(preprocessed_description)\n",
    "print(len(tfidf.get_feature_names_out()))\n",
    "tfidf"
   ]
  },
  {
   "cell_type": "code",
   "execution_count": 42,
   "metadata": {
    "execution": {
     "iopub.execute_input": "2025-03-01T20:20:54.400889Z",
     "iopub.status.busy": "2025-03-01T20:20:54.400515Z",
     "iopub.status.idle": "2025-03-01T20:20:54.775327Z",
     "shell.execute_reply": "2025-03-01T20:20:54.774167Z",
     "shell.execute_reply.started": "2025-03-01T20:20:54.400864Z"
    },
    "trusted": true
   },
   "outputs": [],
   "source": [
    "with open('/kaggle/working/tfidf.pkl', 'wb') as f:\n",
    "    pickle.dump(tfidf, f)"
   ]
  },
  {
   "cell_type": "code",
   "execution_count": 41,
   "metadata": {
    "execution": {
     "iopub.execute_input": "2025-03-05T12:18:33.879383Z",
     "iopub.status.busy": "2025-03-05T12:18:33.879129Z",
     "iopub.status.idle": "2025-03-05T12:18:34.303776Z",
     "shell.execute_reply": "2025-03-05T12:18:34.302825Z",
     "shell.execute_reply.started": "2025-03-05T12:18:33.879364Z"
    },
    "trusted": true
   },
   "outputs": [],
   "source": [
    "with open(\"/kaggle/input/job-postings-tfidf-vectorizer/scikitlearn/default/1/tfidf.model\", 'rb') as f:\n",
    "    tfidf = pickle.load(f)"
   ]
  },
  {
   "cell_type": "markdown",
   "metadata": {},
   "source": [
    "# Encoding"
   ]
  },
  {
   "cell_type": "code",
   "execution_count": 42,
   "metadata": {
    "execution": {
     "iopub.execute_input": "2025-03-05T12:18:35.228596Z",
     "iopub.status.busy": "2025-03-05T12:18:35.228304Z",
     "iopub.status.idle": "2025-03-05T12:18:35.462140Z",
     "shell.execute_reply": "2025-03-05T12:18:35.461416Z",
     "shell.execute_reply.started": "2025-03-05T12:18:35.228573Z"
    },
    "trusted": true
   },
   "outputs": [
    {
     "name": "stdout",
     "output_type": "stream",
     "text": [
      "<class 'pandas.core.frame.DataFrame'>\n",
      "Index: 121675 entries, 0 to 123848\n",
      "Data columns (total 10 columns):\n",
      " #   Column                      Non-Null Count   Dtype  \n",
      "---  ------                      --------------   -----  \n",
      " 0   job_id                      121675 non-null  int64  \n",
      " 1   title                       121675 non-null  object \n",
      " 2   description                 121675 non-null  object \n",
      " 3   location                    121675 non-null  object \n",
      " 4   company_id                  121675 non-null  float64\n",
      " 5   application_type            121675 non-null  object \n",
      " 6   formatted_experience_level  121675 non-null  object \n",
      " 7   work_type                   121675 non-null  object \n",
      " 8   currency                    121675 non-null  object \n",
      " 9   normalized_salary           121675 non-null  float64\n",
      "dtypes: float64(2), int64(1), object(7)\n",
      "memory usage: 10.2+ MB\n"
     ]
    }
   ],
   "source": [
    "postings.info()"
   ]
  },
  {
   "cell_type": "code",
   "execution_count": 43,
   "metadata": {
    "execution": {
     "iopub.execute_input": "2025-03-05T12:18:35.463380Z",
     "iopub.status.busy": "2025-03-05T12:18:35.463089Z",
     "iopub.status.idle": "2025-03-05T12:18:35.474009Z",
     "shell.execute_reply": "2025-03-05T12:18:35.473307Z",
     "shell.execute_reply.started": "2025-03-05T12:18:35.463348Z"
    },
    "trusted": true
   },
   "outputs": [
    {
     "data": {
      "text/plain": [
       "array(['FULL_TIME', 'INTERNSHIP', 'CONTRACT', 'PART_TIME', 'TEMPORARY',\n",
       "       'VOLUNTEER'], dtype=object)"
      ]
     },
     "execution_count": 43,
     "metadata": {},
     "output_type": "execute_result"
    }
   ],
   "source": [
    "postings['work_type'].unique()"
   ]
  },
  {
   "cell_type": "code",
   "execution_count": 44,
   "metadata": {
    "execution": {
     "iopub.execute_input": "2025-03-05T12:18:35.898944Z",
     "iopub.status.busy": "2025-03-05T12:18:35.898693Z",
     "iopub.status.idle": "2025-03-05T12:18:35.909614Z",
     "shell.execute_reply": "2025-03-05T12:18:35.909000Z",
     "shell.execute_reply.started": "2025-03-05T12:18:35.898924Z"
    },
    "trusted": true
   },
   "outputs": [
    {
     "data": {
      "text/plain": [
       "[array(['CONTRACT', 'FULL_TIME', 'INTERNSHIP', 'PART_TIME', 'TEMPORARY',\n",
       "        'VOLUNTEER'], dtype=object)]"
      ]
     },
     "execution_count": 44,
     "metadata": {},
     "output_type": "execute_result"
    }
   ],
   "source": [
    "from sklearn.preprocessing import OneHotEncoder\n",
    "\n",
    "wtonehotenc = OneHotEncoder(dtype= np.int32)\n",
    "wtonehotenc.fit(postings[['work_type']].values)\n",
    "wtonehotenc.categories_"
   ]
  },
  {
   "cell_type": "code",
   "execution_count": 45,
   "metadata": {
    "execution": {
     "iopub.execute_input": "2025-03-05T12:18:36.166382Z",
     "iopub.status.busy": "2025-03-05T12:18:36.166166Z",
     "iopub.status.idle": "2025-03-05T12:18:36.174285Z",
     "shell.execute_reply": "2025-03-05T12:18:36.173636Z",
     "shell.execute_reply.started": "2025-03-05T12:18:36.166364Z"
    },
    "trusted": true
   },
   "outputs": [
    {
     "data": {
      "text/plain": [
       "array([[1, 1, 1, 1, 1, 1]])"
      ]
     },
     "execution_count": 45,
     "metadata": {},
     "output_type": "execute_result"
    }
   ],
   "source": [
    "np.sum(wtonehotenc.transform([[option] for option in ['CONTRACT', 'FULL_TIME', 'INTERNSHIP', 'PART_TIME', 'TEMPORARY',\n",
    "        'VOLUNTEER']]).toarray(), axis=0, keepdims= True)"
   ]
  },
  {
   "cell_type": "code",
   "execution_count": 2,
   "metadata": {
    "execution": {
     "iopub.execute_input": "2025-03-02T15:34:53.445623Z",
     "iopub.status.busy": "2025-03-02T15:34:53.445236Z",
     "iopub.status.idle": "2025-03-02T15:34:53.449724Z",
     "shell.execute_reply": "2025-03-02T15:34:53.448633Z",
     "shell.execute_reply.started": "2025-03-02T15:34:53.445595Z"
    },
    "trusted": true
   },
   "outputs": [],
   "source": [
    "import numpy as np"
   ]
  },
  {
   "cell_type": "code",
   "execution_count": 5,
   "metadata": {
    "execution": {
     "iopub.execute_input": "2025-03-02T15:35:04.856962Z",
     "iopub.status.busy": "2025-03-02T15:35:04.856497Z",
     "iopub.status.idle": "2025-03-02T15:35:04.864440Z",
     "shell.execute_reply": "2025-03-02T15:35:04.863297Z",
     "shell.execute_reply.started": "2025-03-02T15:35:04.856932Z"
    },
    "trusted": true
   },
   "outputs": [
    {
     "data": {
      "text/plain": [
       "array([0, 1, 0, 1, 0, 0])"
      ]
     },
     "execution_count": 5,
     "metadata": {},
     "output_type": "execute_result"
    }
   ],
   "source": [
    "np.array([[[0,1,0,1,0,0]]]).squeeze()"
   ]
  },
  {
   "cell_type": "code",
   "execution_count": 45,
   "metadata": {
    "execution": {
     "iopub.execute_input": "2025-03-02T13:39:44.176694Z",
     "iopub.status.busy": "2025-03-02T13:39:44.176230Z",
     "iopub.status.idle": "2025-03-02T13:39:44.186041Z",
     "shell.execute_reply": "2025-03-02T13:39:44.185065Z",
     "shell.execute_reply.started": "2025-03-02T13:39:44.176647Z"
    },
    "trusted": true
   },
   "outputs": [
    {
     "data": {
      "text/plain": [
       "array(2)"
      ]
     },
     "execution_count": 45,
     "metadata": {},
     "output_type": "execute_result"
    }
   ],
   "source": [
    "np.dot(np.sum(wtonehotenc.transform([[option] for option in ['CONTRACT', 'FULL_TIME', 'INTERNSHIP', 'PART_TIME', 'TEMPORARY',\n",
    "        'VOLUNTEER']]).toarray(), axis=0, keepdims= True), np.array([[0,1,0,1,0,0]]).T).squeeze() "
   ]
  },
  {
   "cell_type": "code",
   "execution_count": 46,
   "metadata": {
    "execution": {
     "iopub.execute_input": "2025-03-01T20:20:55.049880Z",
     "iopub.status.busy": "2025-03-01T20:20:55.049548Z",
     "iopub.status.idle": "2025-03-01T20:20:55.061883Z",
     "shell.execute_reply": "2025-03-01T20:20:55.060831Z",
     "shell.execute_reply.started": "2025-03-01T20:20:55.049842Z"
    },
    "trusted": true
   },
   "outputs": [],
   "source": [
    "with open('/kaggle/working/work_type_onehot_enc.pkl', 'wb') as f:\n",
    "    pickle.dump(wtonehotenc, f)"
   ]
  },
  {
   "cell_type": "markdown",
   "metadata": {},
   "source": [
    "# Content Based Recommender"
   ]
  },
  {
   "cell_type": "code",
   "execution_count": 47,
   "metadata": {
    "execution": {
     "iopub.execute_input": "2025-03-05T12:18:45.062671Z",
     "iopub.status.busy": "2025-03-05T12:18:45.062385Z",
     "iopub.status.idle": "2025-03-05T12:18:45.119522Z",
     "shell.execute_reply": "2025-03-05T12:18:45.118715Z",
     "shell.execute_reply.started": "2025-03-05T12:18:45.062649Z"
    },
    "trusted": true
   },
   "outputs": [
    {
     "name": "stdout",
     "output_type": "stream",
     "text": [
      "<class 'pandas.core.frame.DataFrame'>\n",
      "Index: 121675 entries, 0 to 123848\n",
      "Data columns (total 10 columns):\n",
      " #   Column                      Non-Null Count   Dtype  \n",
      "---  ------                      --------------   -----  \n",
      " 0   job_id                      121675 non-null  int64  \n",
      " 1   title                       121675 non-null  object \n",
      " 2   description                 121675 non-null  object \n",
      " 3   location                    121675 non-null  object \n",
      " 4   company_id                  121675 non-null  float64\n",
      " 5   application_type            121675 non-null  object \n",
      " 6   formatted_experience_level  121675 non-null  object \n",
      " 7   work_type                   121675 non-null  object \n",
      " 8   currency                    121675 non-null  object \n",
      " 9   normalized_salary           121675 non-null  float64\n",
      "dtypes: float64(2), int64(1), object(7)\n",
      "memory usage: 10.2+ MB\n"
     ]
    }
   ],
   "source": [
    "postings.info()"
   ]
  },
  {
   "cell_type": "code",
   "execution_count": 84,
   "metadata": {
    "execution": {
     "iopub.execute_input": "2025-03-05T12:40:17.843188Z",
     "iopub.status.busy": "2025-03-05T12:40:17.842893Z",
     "iopub.status.idle": "2025-03-05T12:40:17.854194Z",
     "shell.execute_reply": "2025-03-05T12:40:17.853319Z",
     "shell.execute_reply.started": "2025-03-05T12:40:17.843165Z"
    },
    "trusted": true
   },
   "outputs": [],
   "source": [
    "def get_matches_score(ind1, ind1_param, ind2, ind2_param, encoder):\n",
    "    n_categs = len(encoder.categories_)\n",
    "    \n",
    "    ind1_enc = np.zeros(shape= (1, n_categs), dtype= np.int32)\n",
    "    for option in ind1[ind1_param]:\n",
    "        ind1_enc = ind1_enc + encoder.transform([[option]]).toarray()\n",
    "\n",
    "    ind2_enc = encoder.transform([[ind[ind2_param]] for ind in ind2]).toarray()\n",
    "\n",
    "    # Calculate similarity\n",
    "    scores = np.dot(ind1_enc, ind2_enc.T)\n",
    "    return scores\n",
    "\n",
    "\n",
    "user_job_map = {\n",
    "    'about': 'description',\n",
    "    'preferred_work_types':'work_type',\n",
    "    'experience_level': 'formatted_experience_level',\n",
    "    'Expected Salary': 'normalized_salary'\n",
    "}\n",
    "\n",
    "def rename_key(dictionary, old_key, new_key):\n",
    "    if old_key in dictionary:\n",
    "        dictionary[new_key] = dictionary.pop(old_key)\n",
    "\n",
    "\n",
    "def normalize(array: np.array):\n",
    "    if np.any(array):\n",
    "        return (array - np.min(array)) / (np.max(array) - np.min(array))\n",
    "    return array\n",
    "\n",
    "\n",
    "def user_job_recommend(user: dict, jobs: list[dict], weights, title_vectorizer, content_vectorizer, encoders):\n",
    "    # Map user keys to job keys\n",
    "    for key, value in user_job_map.items():\n",
    "        rename_key(user, key, value)\n",
    "\n",
    "    return job_recommend(user, jobs, weights, title_vectorizer, content_vectorizer, encoders)\n",
    "\n",
    "\n",
    "def job_recommend(base_job: dict, jobs: list[dict], weights, title_vectorizer, content_vectorizer, encoders):\n",
    "    similarity = dict()\n",
    "\n",
    "    if weights['title']:\n",
    "        # Get Title Embeddings\n",
    "        base_job_title = title_vectorizer.encode([base_job['title']])\n",
    "        jobs_title  = title_vectorizer.encode([job['title'] for job in jobs])\n",
    "    \n",
    "        # Calculate Title Similarity\n",
    "        similarity['title'] = np.dot(base_job_title, jobs_title.T)[0]\n",
    "\n",
    "    if weights['content']:\n",
    "        # Get Description (Content) Embeddings\n",
    "        for j in jobs:\n",
    "            j['description'] = clean_text(j['description'])\n",
    "        print(\"Started Vectorizing Descriptions\")\n",
    "        base_job_content_embd = title_vectorizer.encode([clean_text(base_job['description'])])\n",
    "        jobs_content_embd = title_vectorizer.encode([job['description'] for job in jobs])\n",
    "\n",
    "        # Calculate Content Embeddings Similarity\n",
    "        similarity['content'] = np.dot(base_job_content_embd, jobs_content_embd.T)[0]\n",
    "\n",
    "    # Calculate Work Type Similarity\n",
    "    if 'work_type' in base_job.keys() and weights['work_type']:\n",
    "        similarity['work_type'] = get_matches_score(base_job, 'work_type', jobs, 'work_type', encoders['work_type'])[0]\n",
    "        \n",
    "    else:\n",
    "        similarity['work_type'] = 0\n",
    "\n",
    "    # Get Skill Match\n",
    "    if 'skills' in jobs[0] and weights['skills']:\n",
    "        base_job_skill_embd = content_vectorizer.transform(base_job['skills']).toarray()\n",
    "        jobs_skill_embd = content_vectorizer.transform([job['skills'] for job in jobs]).toarray()\n",
    "\n",
    "        temp_similarity = np.dot(base_job_skill_embd, jobs_skill_embd.T)\n",
    "        similarity['skills'] = np.average(temp_similarity)\n",
    "    \n",
    "    # Accumulate Scores\n",
    "    n_jobs = len(jobs)\n",
    "    n_features = len(similarity.keys())\n",
    "    job_scores = np.zeros((n_jobs, ), dtype= np.float64)\n",
    "    \n",
    "    for feature, scores in similarity.items():\n",
    "        job_scores += weights[feature] * normalize(scores)\n",
    "\n",
    "    job_scores = sorted(enumerate(job_scores), key= lambda x: x[1], reverse= True)\n",
    "    return job_scores"
   ]
  },
  {
   "cell_type": "code",
   "execution_count": 52,
   "metadata": {
    "execution": {
     "iopub.execute_input": "2025-03-05T12:19:20.752560Z",
     "iopub.status.busy": "2025-03-05T12:19:20.752222Z",
     "iopub.status.idle": "2025-03-05T12:19:20.757159Z",
     "shell.execute_reply": "2025-03-05T12:19:20.756124Z",
     "shell.execute_reply.started": "2025-03-05T12:19:20.752521Z"
    },
    "trusted": true
   },
   "outputs": [],
   "source": [
    "#Sample\n",
    "user = {'title': 'Machine Learning Engineer',\n",
    "             'about': '''Machine Learning Engineer with a strong focus on building intelligent systems that bridge the gap between user needs and actionable insights. Currently, I am working on developing a sophisticated recommender system designed to match user profiles with job descriptions, leveraging advanced natural language processing (NLP) and collaborative filtering techniques. My role involves end-to-end ownership of the project, from data preprocessing and feature engineering to model training, evaluation, and deployment.\n",
    "\n",
    "With a solid foundation in Computer Science, I bring 4 years of experience in designing and implementing machine learning solutions that drive real-world impact. My expertise includes working with large-scale datasets, optimizing recommendation algorithms, and deploying models into production environments using cloud platforms like AWS and GCP. I am proficient in Python, TensorFlow, PyTorch, and Scikit-learn, and have hands-on experience with tools like Spark and Docker for scalable data processing and deployment.\n",
    "\n",
    "In my current project, I am focused on improving the accuracy and personalization of job recommendations by incorporating user behavior data, contextual information, and advanced NLP techniques to better understand both user profiles and job descriptions. This involves experimenting with deep learning architectures, such as BERT-based models, and continuously iterating to enhance system performance. For example, I recently implemented a hybrid recommendation approach that combines content-based filtering with matrix factorization, resulting in a 15% improvement in recommendation relevance based on user feedback.\n",
    "\n",
    "I am passionate about creating ethical, transparent, and user-centric AI systems that deliver meaningful value. Outside of work, I enjoy staying updated with the latest advancements in AI/ML, contributing to open-source projects like Hugging Face Transformers, and participating in technical communities such as Kaggle and Meetup groups. I am always open to connecting with professionals who share a passion for innovation and problem-solving. Let’s connect and explore how we can collaborate to build the future of intelligent systems!''',\n",
    "            'preferred_work_types': ['FULL_TIME', 'INTERNSHIP'],\n",
    "            'experience_level': 'Entry level',\n",
    "            'expected_salary': None,\n",
    "            'skills': ['python', 'scikitlearn', 'tensorflow', 'pandas']\n",
    "            }"
   ]
  },
  {
   "cell_type": "code",
   "execution_count": 24,
   "metadata": {
    "execution": {
     "iopub.execute_input": "2025-03-07T07:03:23.771389Z",
     "iopub.status.busy": "2025-03-07T07:03:23.771065Z",
     "iopub.status.idle": "2025-03-07T07:03:23.808823Z",
     "shell.execute_reply": "2025-03-07T07:03:23.807892Z",
     "shell.execute_reply.started": "2025-03-07T07:03:23.771365Z"
    },
    "trusted": true
   },
   "outputs": [
    {
     "data": {
      "text/html": [
       "<div>\n",
       "<style scoped>\n",
       "    .dataframe tbody tr th:only-of-type {\n",
       "        vertical-align: middle;\n",
       "    }\n",
       "\n",
       "    .dataframe tbody tr th {\n",
       "        vertical-align: top;\n",
       "    }\n",
       "\n",
       "    .dataframe thead th {\n",
       "        text-align: right;\n",
       "    }\n",
       "</style>\n",
       "<table border=\"1\" class=\"dataframe\">\n",
       "  <thead>\n",
       "    <tr style=\"text-align: right;\">\n",
       "      <th></th>\n",
       "      <th>job_id</th>\n",
       "      <th>title</th>\n",
       "      <th>description</th>\n",
       "      <th>location</th>\n",
       "      <th>company_id</th>\n",
       "      <th>application_type</th>\n",
       "      <th>formatted_experience_level</th>\n",
       "      <th>work_type</th>\n",
       "      <th>currency</th>\n",
       "      <th>normalized_salary</th>\n",
       "    </tr>\n",
       "  </thead>\n",
       "  <tbody>\n",
       "    <tr>\n",
       "      <th>25766</th>\n",
       "      <td>3891077143</td>\n",
       "      <td>Senior Internal Auditor</td>\n",
       "      <td>Culbertson Resources is excited to present thi...</td>\n",
       "      <td>Houston, TX</td>\n",
       "      <td>79422398.0</td>\n",
       "      <td>ComplexOnsiteApply</td>\n",
       "      <td>Mid-Senior level</td>\n",
       "      <td>FULL_TIME</td>\n",
       "      <td>Undefined</td>\n",
       "      <td>0.0</td>\n",
       "    </tr>\n",
       "    <tr>\n",
       "      <th>43761</th>\n",
       "      <td>3900082093</td>\n",
       "      <td>Workday Developer</td>\n",
       "      <td>As a member of Workday HR technology team, gat...</td>\n",
       "      <td>Charlotte, NC</td>\n",
       "      <td>16388.0</td>\n",
       "      <td>ComplexOnsiteApply</td>\n",
       "      <td>Undefined</td>\n",
       "      <td>CONTRACT</td>\n",
       "      <td>Undefined</td>\n",
       "      <td>0.0</td>\n",
       "    </tr>\n",
       "    <tr>\n",
       "      <th>41714</th>\n",
       "      <td>3899526567</td>\n",
       "      <td>ETL Informatica Developer</td>\n",
       "      <td>Role- Etl Informatica DeveloperLocation - Phoe...</td>\n",
       "      <td>Phoenix, AZ</td>\n",
       "      <td>60561.0</td>\n",
       "      <td>SimpleOnsiteApply</td>\n",
       "      <td>Undefined</td>\n",
       "      <td>FULL_TIME</td>\n",
       "      <td>Undefined</td>\n",
       "      <td>0.0</td>\n",
       "    </tr>\n",
       "    <tr>\n",
       "      <th>123681</th>\n",
       "      <td>3906260516</td>\n",
       "      <td>Emergency Room Registered Nurse</td>\n",
       "      <td>Job Description\\n\\nFacility: Gunnison Valley H...</td>\n",
       "      <td>Gunnison, CO</td>\n",
       "      <td>67997480.0</td>\n",
       "      <td>SimpleOnsiteApply</td>\n",
       "      <td>Mid-Senior level</td>\n",
       "      <td>CONTRACT</td>\n",
       "      <td>Undefined</td>\n",
       "      <td>0.0</td>\n",
       "    </tr>\n",
       "    <tr>\n",
       "      <th>100503</th>\n",
       "      <td>3905213114</td>\n",
       "      <td>Entry Level Hospital Services Technician</td>\n",
       "      <td>$20.19/hr, Daylight Shift, NO WEEKENDS and Gre...</td>\n",
       "      <td>Boston, MA</td>\n",
       "      <td>15798.0</td>\n",
       "      <td>OffsiteApply</td>\n",
       "      <td>Entry level</td>\n",
       "      <td>FULL_TIME</td>\n",
       "      <td>USD</td>\n",
       "      <td>41995.2</td>\n",
       "    </tr>\n",
       "  </tbody>\n",
       "</table>\n",
       "</div>"
      ],
      "text/plain": [
       "            job_id                                     title  \\\n",
       "25766   3891077143                   Senior Internal Auditor   \n",
       "43761   3900082093                         Workday Developer   \n",
       "41714   3899526567                 ETL Informatica Developer   \n",
       "123681  3906260516           Emergency Room Registered Nurse   \n",
       "100503  3905213114  Entry Level Hospital Services Technician   \n",
       "\n",
       "                                              description       location  \\\n",
       "25766   Culbertson Resources is excited to present thi...    Houston, TX   \n",
       "43761   As a member of Workday HR technology team, gat...  Charlotte, NC   \n",
       "41714   Role- Etl Informatica DeveloperLocation - Phoe...    Phoenix, AZ   \n",
       "123681  Job Description\\n\\nFacility: Gunnison Valley H...   Gunnison, CO   \n",
       "100503  $20.19/hr, Daylight Shift, NO WEEKENDS and Gre...     Boston, MA   \n",
       "\n",
       "        company_id    application_type formatted_experience_level  work_type  \\\n",
       "25766   79422398.0  ComplexOnsiteApply           Mid-Senior level  FULL_TIME   \n",
       "43761      16388.0  ComplexOnsiteApply                  Undefined   CONTRACT   \n",
       "41714      60561.0   SimpleOnsiteApply                  Undefined  FULL_TIME   \n",
       "123681  67997480.0   SimpleOnsiteApply           Mid-Senior level   CONTRACT   \n",
       "100503     15798.0        OffsiteApply                Entry level  FULL_TIME   \n",
       "\n",
       "         currency  normalized_salary  \n",
       "25766   Undefined                0.0  \n",
       "43761   Undefined                0.0  \n",
       "41714   Undefined                0.0  \n",
       "123681  Undefined                0.0  \n",
       "100503        USD            41995.2  "
      ]
     },
     "execution_count": 24,
     "metadata": {},
     "output_type": "execute_result"
    }
   ],
   "source": [
    "samples_df = postings.sample(2000)\n",
    "test_samples = samples_df.to_dict(orient='records')\n",
    "samples_df.head()"
   ]
  },
  {
   "cell_type": "code",
   "execution_count": 25,
   "metadata": {
    "execution": {
     "iopub.execute_input": "2025-03-07T07:03:25.734884Z",
     "iopub.status.busy": "2025-03-07T07:03:25.734597Z",
     "iopub.status.idle": "2025-03-07T07:03:25.757980Z",
     "shell.execute_reply": "2025-03-07T07:03:25.757298Z",
     "shell.execute_reply.started": "2025-03-07T07:03:25.734863Z"
    },
    "trusted": true
   },
   "outputs": [],
   "source": [
    "with open('/kaggle/working/test_data.pkl', 'wb') as f:\n",
    "    pickle.dump(test_samples, f)"
   ]
  },
  {
   "cell_type": "code",
   "execution_count": 82,
   "metadata": {
    "execution": {
     "iopub.execute_input": "2025-03-05T12:40:00.532497Z",
     "iopub.status.busy": "2025-03-05T12:40:00.532175Z",
     "iopub.status.idle": "2025-03-05T12:40:00.536403Z",
     "shell.execute_reply": "2025-03-05T12:40:00.535385Z",
     "shell.execute_reply.started": "2025-03-05T12:40:00.532475Z"
    },
    "trusted": true
   },
   "outputs": [],
   "source": [
    "torch.set_default_device('cpu')"
   ]
  },
  {
   "cell_type": "code",
   "execution_count": 85,
   "metadata": {
    "execution": {
     "iopub.execute_input": "2025-03-05T12:40:19.847981Z",
     "iopub.status.busy": "2025-03-05T12:40:19.847669Z",
     "iopub.status.idle": "2025-03-05T12:40:30.596259Z",
     "shell.execute_reply": "2025-03-05T12:40:30.595546Z",
     "shell.execute_reply.started": "2025-03-05T12:40:19.847957Z"
    },
    "trusted": true
   },
   "outputs": [
    {
     "data": {
      "application/vnd.jupyter.widget-view+json": {
       "model_id": "8bee43fa6b7940fcafad7211e742d751",
       "version_major": 2,
       "version_minor": 0
      },
      "text/plain": [
       "Batches:   0%|          | 0/1 [00:00<?, ?it/s]"
      ]
     },
     "metadata": {},
     "output_type": "display_data"
    },
    {
     "data": {
      "application/vnd.jupyter.widget-view+json": {
       "model_id": "75486cb2fb16477d8aafa6d191b1b96f",
       "version_major": 2,
       "version_minor": 0
      },
      "text/plain": [
       "Batches:   0%|          | 0/63 [00:00<?, ?it/s]"
      ]
     },
     "metadata": {},
     "output_type": "display_data"
    },
    {
     "name": "stdout",
     "output_type": "stream",
     "text": [
      "Started Vectorizing Descriptions\n"
     ]
    },
    {
     "data": {
      "application/vnd.jupyter.widget-view+json": {
       "model_id": "e1073b1ed1224e23a1c4ddd98c9549c2",
       "version_major": 2,
       "version_minor": 0
      },
      "text/plain": [
       "Batches:   0%|          | 0/1 [00:00<?, ?it/s]"
      ]
     },
     "metadata": {},
     "output_type": "display_data"
    },
    {
     "data": {
      "application/vnd.jupyter.widget-view+json": {
       "model_id": "d4306a0713f947998a7d755ef1941509",
       "version_major": 2,
       "version_minor": 0
      },
      "text/plain": [
       "Batches:   0%|          | 0/63 [00:00<?, ?it/s]"
      ]
     },
     "metadata": {},
     "output_type": "display_data"
    },
    {
     "name": "stdout",
     "output_type": "stream",
     "text": [
      "1168\n",
      "AI Engineer\n",
      "lasalle network partner global distribution compan\n",
      "0.7632841676473617 \n",
      "\n",
      "\n",
      "438\n",
      "Data Engineer\n",
      "seek drive enthusiastic data engineer join dynamic\n",
      "0.7509095728397369 \n",
      "\n",
      "\n",
      "1546\n",
      "Junior Software Engineer, AI\n",
      "company overviewconveyor cuttingedge software comp\n",
      "0.7383100003004074 \n",
      "\n",
      "\n",
      "11\n",
      "Software Engineer\n",
      "summarythe software engineer responsible analysis \n",
      "0.7157655715942383 \n",
      "\n",
      "\n",
      "668\n",
      "Quantitative Developer\n",
      "companyour client lead asset management firm billi\n",
      "0.7131343692541122 \n",
      "\n",
      "\n"
     ]
    }
   ],
   "source": [
    "weights = {\n",
    "    'title': 0.2,\n",
    "    'content': 0.5,\n",
    "    'work_type': 0.1,\n",
    "    'skills': 0.2\n",
    "}\n",
    "\n",
    "encoders = {'work_type': wtonehotenc}\n",
    "\n",
    "for idx, score in user_job_recommend(user, test_samples, weights,\n",
    "                                    title_vectorizer= minilm_model,\n",
    "                                    content_vectorizer= tfidf,\n",
    "                                    encoders = encoders)[:5]:\n",
    "    job = test_samples[idx]\n",
    "    print(idx)\n",
    "    print(job['title'])\n",
    "    print(job['description'][:50])\n",
    "    print(score, '\\n\\n')"
   ]
  },
  {
   "cell_type": "code",
   "execution_count": null,
   "metadata": {
    "trusted": true
   },
   "outputs": [],
   "source": []
  }
 ],
 "metadata": {
  "kaggle": {
   "accelerator": "none",
   "dataSources": [
    {
     "datasetId": 3680745,
     "sourceId": 9200871,
     "sourceType": "datasetVersion"
    },
    {
     "modelId": 191,
     "modelInstanceId": 1276,
     "sourceId": 1513,
     "sourceType": "modelInstanceVersion"
    },
    {
     "isSourceIdPinned": true,
     "modelId": 254407,
     "modelInstanceId": 232681,
     "sourceId": 271780,
     "sourceType": "modelInstanceVersion"
    }
   ],
   "dockerImageVersionId": 30886,
   "isGpuEnabled": false,
   "isInternetEnabled": true,
   "language": "python",
   "sourceType": "notebook"
  },
  "kernelspec": {
   "display_name": "Python 3",
   "language": "python",
   "name": "python3"
  }
 },
 "nbformat": 4,
 "nbformat_minor": 4
}
